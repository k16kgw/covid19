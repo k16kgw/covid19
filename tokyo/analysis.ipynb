{
 "metadata": {
  "language_info": {
   "codemirror_mode": {
    "name": "ipython",
    "version": 3
   },
   "file_extension": ".py",
   "mimetype": "text/x-python",
   "name": "python",
   "nbconvert_exporter": "python",
   "pygments_lexer": "ipython3",
   "version": "3.9.1"
  },
  "orig_nbformat": 2,
  "kernelspec": {
   "name": "python3",
   "display_name": "Python 3.9.1 64-bit"
  },
  "interpreter": {
   "hash": "aee8b7b246df8f9039afb4144a1f6fd8d2ca17a180786b69acc140d282b71a49"
  }
 },
 "nbformat": 4,
 "nbformat_minor": 2,
 "cells": [
  {
   "source": [
    "# 東京都新型コロナウイルス感染症のデータ分析"
   ],
   "cell_type": "markdown",
   "metadata": {}
  },
  {
   "cell_type": "code",
   "execution_count": 1,
   "metadata": {},
   "outputs": [],
   "source": [
    "import numpy as np\n",
    "import pandas as pd\n",
    "\n",
    "import matplotlib.pyplot as plt\n",
    "%matplotlib inline\n",
    "import japanize_matplotlib"
   ]
  },
  {
   "cell_type": "code",
   "execution_count": 2,
   "metadata": {},
   "outputs": [
    {
     "output_type": "stream",
     "name": "stderr",
     "text": [
      "/Users/kagawakeiichiro/Library/Python/3.9/lib/python/site-packages/IPython/core/interactiveshell.py:3146: DtypeWarning: Columns (5,6,10) have mixed types.Specify dtype option on import or set low_memory=False.\n  has_raised = await self.run_ast_nodes(code_ast.body, cell_name,\n"
     ]
    },
    {
     "output_type": "execute_result",
     "data": {
      "text/plain": [
       "   No  全国地方公共団体コード 都道府県名  市区町村名      公表_年月日 発症_年月日 確定_年月日  患者_居住地 患者_年代 患者_性別  \\\n",
       "0   1       130001   東京都    NaN  2020-01-24    NaN    NaN  湖北省武漢市   40代    男性   \n",
       "1   2       130001   東京都    NaN  2020-01-25    NaN    NaN  湖北省武漢市   30代    女性   \n",
       "2   3       130001   東京都    NaN  2020-01-30    NaN    NaN  湖南省長沙市   30代    女性   \n",
       "3   4       130001   東京都    NaN  2020-02-13    NaN    NaN      都内   70代    男性   \n",
       "4   5       130001   東京都    NaN  2020-02-14    NaN    NaN      都内   50代    女性   \n",
       "\n",
       "  患者_職業  患者_状態  患者_症状  患者_渡航歴の有無フラグ  患者_接触歴の有無フラグ  備考  退院済フラグ  \n",
       "0   NaN    NaN    NaN           NaN           NaN NaN     1.0  \n",
       "1   NaN    NaN    NaN           NaN           NaN NaN     1.0  \n",
       "2   NaN    NaN    NaN           NaN           NaN NaN     1.0  \n",
       "3   NaN    NaN    NaN           NaN           NaN NaN     1.0  \n",
       "4   NaN    NaN    NaN           NaN           NaN NaN     1.0  "
      ],
      "text/html": "<div>\n<style scoped>\n    .dataframe tbody tr th:only-of-type {\n        vertical-align: middle;\n    }\n\n    .dataframe tbody tr th {\n        vertical-align: top;\n    }\n\n    .dataframe thead th {\n        text-align: right;\n    }\n</style>\n<table border=\"1\" class=\"dataframe\">\n  <thead>\n    <tr style=\"text-align: right;\">\n      <th></th>\n      <th>No</th>\n      <th>全国地方公共団体コード</th>\n      <th>都道府県名</th>\n      <th>市区町村名</th>\n      <th>公表_年月日</th>\n      <th>発症_年月日</th>\n      <th>確定_年月日</th>\n      <th>患者_居住地</th>\n      <th>患者_年代</th>\n      <th>患者_性別</th>\n      <th>患者_職業</th>\n      <th>患者_状態</th>\n      <th>患者_症状</th>\n      <th>患者_渡航歴の有無フラグ</th>\n      <th>患者_接触歴の有無フラグ</th>\n      <th>備考</th>\n      <th>退院済フラグ</th>\n    </tr>\n  </thead>\n  <tbody>\n    <tr>\n      <th>0</th>\n      <td>1</td>\n      <td>130001</td>\n      <td>東京都</td>\n      <td>NaN</td>\n      <td>2020-01-24</td>\n      <td>NaN</td>\n      <td>NaN</td>\n      <td>湖北省武漢市</td>\n      <td>40代</td>\n      <td>男性</td>\n      <td>NaN</td>\n      <td>NaN</td>\n      <td>NaN</td>\n      <td>NaN</td>\n      <td>NaN</td>\n      <td>NaN</td>\n      <td>1.0</td>\n    </tr>\n    <tr>\n      <th>1</th>\n      <td>2</td>\n      <td>130001</td>\n      <td>東京都</td>\n      <td>NaN</td>\n      <td>2020-01-25</td>\n      <td>NaN</td>\n      <td>NaN</td>\n      <td>湖北省武漢市</td>\n      <td>30代</td>\n      <td>女性</td>\n      <td>NaN</td>\n      <td>NaN</td>\n      <td>NaN</td>\n      <td>NaN</td>\n      <td>NaN</td>\n      <td>NaN</td>\n      <td>1.0</td>\n    </tr>\n    <tr>\n      <th>2</th>\n      <td>3</td>\n      <td>130001</td>\n      <td>東京都</td>\n      <td>NaN</td>\n      <td>2020-01-30</td>\n      <td>NaN</td>\n      <td>NaN</td>\n      <td>湖南省長沙市</td>\n      <td>30代</td>\n      <td>女性</td>\n      <td>NaN</td>\n      <td>NaN</td>\n      <td>NaN</td>\n      <td>NaN</td>\n      <td>NaN</td>\n      <td>NaN</td>\n      <td>1.0</td>\n    </tr>\n    <tr>\n      <th>3</th>\n      <td>4</td>\n      <td>130001</td>\n      <td>東京都</td>\n      <td>NaN</td>\n      <td>2020-02-13</td>\n      <td>NaN</td>\n      <td>NaN</td>\n      <td>都内</td>\n      <td>70代</td>\n      <td>男性</td>\n      <td>NaN</td>\n      <td>NaN</td>\n      <td>NaN</td>\n      <td>NaN</td>\n      <td>NaN</td>\n      <td>NaN</td>\n      <td>1.0</td>\n    </tr>\n    <tr>\n      <th>4</th>\n      <td>5</td>\n      <td>130001</td>\n      <td>東京都</td>\n      <td>NaN</td>\n      <td>2020-02-14</td>\n      <td>NaN</td>\n      <td>NaN</td>\n      <td>都内</td>\n      <td>50代</td>\n      <td>女性</td>\n      <td>NaN</td>\n      <td>NaN</td>\n      <td>NaN</td>\n      <td>NaN</td>\n      <td>NaN</td>\n      <td>NaN</td>\n      <td>1.0</td>\n    </tr>\n  </tbody>\n</table>\n</div>"
     },
     "metadata": {},
     "execution_count": 2
    }
   ],
   "source": [
    "url = \"https://stopcovid19.metro.tokyo.lg.jp/data/130001_tokyo_covid19_patients.csv\"\n",
    "df = pd.read_csv(url)\n",
    "df.head()"
   ]
  },
  {
   "cell_type": "code",
   "execution_count": 3,
   "metadata": {},
   "outputs": [
    {
     "output_type": "execute_result",
     "data": {
      "text/plain": [
       "            No  全国地方公共団体コード 都道府県名  市区町村名      公表_年月日 発症_年月日 確定_年月日 患者_居住地  \\\n",
       "282089  281206       130001   東京都    NaN  2021-08-16    NaN    NaN    NaN   \n",
       "282090  281207       130001   東京都    NaN  2021-08-16    NaN    NaN    NaN   \n",
       "282091  281208       130001   東京都    NaN  2021-08-16    NaN    NaN    NaN   \n",
       "282092  281209       130001   東京都    NaN  2021-08-16    NaN    NaN    NaN   \n",
       "282093  281210       130001   東京都    NaN  2021-08-16    NaN    NaN    NaN   \n",
       "\n",
       "       患者_年代 患者_性別 患者_職業  患者_状態  患者_症状  患者_渡航歴の有無フラグ  患者_接触歴の有無フラグ  備考  退院済フラグ  \n",
       "282089   40代    女性   NaN    NaN    NaN           NaN           NaN NaN     NaN  \n",
       "282090   30代    女性   NaN    NaN    NaN           NaN           NaN NaN     NaN  \n",
       "282091   10代    男性   NaN    NaN    NaN           NaN           NaN NaN     NaN  \n",
       "282092   50代    女性   NaN    NaN    NaN           NaN           NaN NaN     NaN  \n",
       "282093   10代    男性   NaN    NaN    NaN           NaN           NaN NaN     NaN  "
      ],
      "text/html": "<div>\n<style scoped>\n    .dataframe tbody tr th:only-of-type {\n        vertical-align: middle;\n    }\n\n    .dataframe tbody tr th {\n        vertical-align: top;\n    }\n\n    .dataframe thead th {\n        text-align: right;\n    }\n</style>\n<table border=\"1\" class=\"dataframe\">\n  <thead>\n    <tr style=\"text-align: right;\">\n      <th></th>\n      <th>No</th>\n      <th>全国地方公共団体コード</th>\n      <th>都道府県名</th>\n      <th>市区町村名</th>\n      <th>公表_年月日</th>\n      <th>発症_年月日</th>\n      <th>確定_年月日</th>\n      <th>患者_居住地</th>\n      <th>患者_年代</th>\n      <th>患者_性別</th>\n      <th>患者_職業</th>\n      <th>患者_状態</th>\n      <th>患者_症状</th>\n      <th>患者_渡航歴の有無フラグ</th>\n      <th>患者_接触歴の有無フラグ</th>\n      <th>備考</th>\n      <th>退院済フラグ</th>\n    </tr>\n  </thead>\n  <tbody>\n    <tr>\n      <th>282089</th>\n      <td>281206</td>\n      <td>130001</td>\n      <td>東京都</td>\n      <td>NaN</td>\n      <td>2021-08-16</td>\n      <td>NaN</td>\n      <td>NaN</td>\n      <td>NaN</td>\n      <td>40代</td>\n      <td>女性</td>\n      <td>NaN</td>\n      <td>NaN</td>\n      <td>NaN</td>\n      <td>NaN</td>\n      <td>NaN</td>\n      <td>NaN</td>\n      <td>NaN</td>\n    </tr>\n    <tr>\n      <th>282090</th>\n      <td>281207</td>\n      <td>130001</td>\n      <td>東京都</td>\n      <td>NaN</td>\n      <td>2021-08-16</td>\n      <td>NaN</td>\n      <td>NaN</td>\n      <td>NaN</td>\n      <td>30代</td>\n      <td>女性</td>\n      <td>NaN</td>\n      <td>NaN</td>\n      <td>NaN</td>\n      <td>NaN</td>\n      <td>NaN</td>\n      <td>NaN</td>\n      <td>NaN</td>\n    </tr>\n    <tr>\n      <th>282091</th>\n      <td>281208</td>\n      <td>130001</td>\n      <td>東京都</td>\n      <td>NaN</td>\n      <td>2021-08-16</td>\n      <td>NaN</td>\n      <td>NaN</td>\n      <td>NaN</td>\n      <td>10代</td>\n      <td>男性</td>\n      <td>NaN</td>\n      <td>NaN</td>\n      <td>NaN</td>\n      <td>NaN</td>\n      <td>NaN</td>\n      <td>NaN</td>\n      <td>NaN</td>\n    </tr>\n    <tr>\n      <th>282092</th>\n      <td>281209</td>\n      <td>130001</td>\n      <td>東京都</td>\n      <td>NaN</td>\n      <td>2021-08-16</td>\n      <td>NaN</td>\n      <td>NaN</td>\n      <td>NaN</td>\n      <td>50代</td>\n      <td>女性</td>\n      <td>NaN</td>\n      <td>NaN</td>\n      <td>NaN</td>\n      <td>NaN</td>\n      <td>NaN</td>\n      <td>NaN</td>\n      <td>NaN</td>\n    </tr>\n    <tr>\n      <th>282093</th>\n      <td>281210</td>\n      <td>130001</td>\n      <td>東京都</td>\n      <td>NaN</td>\n      <td>2021-08-16</td>\n      <td>NaN</td>\n      <td>NaN</td>\n      <td>NaN</td>\n      <td>10代</td>\n      <td>男性</td>\n      <td>NaN</td>\n      <td>NaN</td>\n      <td>NaN</td>\n      <td>NaN</td>\n      <td>NaN</td>\n      <td>NaN</td>\n      <td>NaN</td>\n    </tr>\n  </tbody>\n</table>\n</div>"
     },
     "metadata": {},
     "execution_count": 3
    }
   ],
   "source": [
    "# 最新データの確認\n",
    "df.tail()"
   ]
  },
  {
   "cell_type": "code",
   "execution_count": 12,
   "metadata": {},
   "outputs": [
    {
     "output_type": "execute_result",
     "data": {
      "text/plain": [
       "                 No  全国地方公共団体コード  市区町村名  患者_状態  患者_症状  患者_渡航歴の有無フラグ  \\\n",
       "count  2.820940e+05     282094.0    0.0    0.0    0.0           0.0   \n",
       "mean   1.436812e+05     130001.0    NaN    NaN    NaN           NaN   \n",
       "std    9.567348e+04          0.0    NaN    NaN    NaN           NaN   \n",
       "min    1.000000e+00     130001.0    NaN    NaN    NaN           NaN   \n",
       "25%    7.064725e+04     130001.0    NaN    NaN    NaN           NaN   \n",
       "50%    1.411555e+05     130001.0    NaN    NaN    NaN           NaN   \n",
       "75%    2.116788e+05     130001.0    NaN    NaN    NaN           NaN   \n",
       "max    1.001007e+06     130001.0    NaN    NaN    NaN           NaN   \n",
       "\n",
       "       患者_接触歴の有無フラグ   備考    退院済フラグ  \n",
       "count       88400.0  0.0  210879.0  \n",
       "mean            1.0  NaN       1.0  \n",
       "std             0.0  NaN       0.0  \n",
       "min             1.0  NaN       1.0  \n",
       "25%             1.0  NaN       1.0  \n",
       "50%             1.0  NaN       1.0  \n",
       "75%             1.0  NaN       1.0  \n",
       "max             1.0  NaN       1.0  "
      ],
      "text/html": "<div>\n<style scoped>\n    .dataframe tbody tr th:only-of-type {\n        vertical-align: middle;\n    }\n\n    .dataframe tbody tr th {\n        vertical-align: top;\n    }\n\n    .dataframe thead th {\n        text-align: right;\n    }\n</style>\n<table border=\"1\" class=\"dataframe\">\n  <thead>\n    <tr style=\"text-align: right;\">\n      <th></th>\n      <th>No</th>\n      <th>全国地方公共団体コード</th>\n      <th>市区町村名</th>\n      <th>患者_状態</th>\n      <th>患者_症状</th>\n      <th>患者_渡航歴の有無フラグ</th>\n      <th>患者_接触歴の有無フラグ</th>\n      <th>備考</th>\n      <th>退院済フラグ</th>\n    </tr>\n  </thead>\n  <tbody>\n    <tr>\n      <th>count</th>\n      <td>2.820940e+05</td>\n      <td>282094.0</td>\n      <td>0.0</td>\n      <td>0.0</td>\n      <td>0.0</td>\n      <td>0.0</td>\n      <td>88400.0</td>\n      <td>0.0</td>\n      <td>210879.0</td>\n    </tr>\n    <tr>\n      <th>mean</th>\n      <td>1.436812e+05</td>\n      <td>130001.0</td>\n      <td>NaN</td>\n      <td>NaN</td>\n      <td>NaN</td>\n      <td>NaN</td>\n      <td>1.0</td>\n      <td>NaN</td>\n      <td>1.0</td>\n    </tr>\n    <tr>\n      <th>std</th>\n      <td>9.567348e+04</td>\n      <td>0.0</td>\n      <td>NaN</td>\n      <td>NaN</td>\n      <td>NaN</td>\n      <td>NaN</td>\n      <td>0.0</td>\n      <td>NaN</td>\n      <td>0.0</td>\n    </tr>\n    <tr>\n      <th>min</th>\n      <td>1.000000e+00</td>\n      <td>130001.0</td>\n      <td>NaN</td>\n      <td>NaN</td>\n      <td>NaN</td>\n      <td>NaN</td>\n      <td>1.0</td>\n      <td>NaN</td>\n      <td>1.0</td>\n    </tr>\n    <tr>\n      <th>25%</th>\n      <td>7.064725e+04</td>\n      <td>130001.0</td>\n      <td>NaN</td>\n      <td>NaN</td>\n      <td>NaN</td>\n      <td>NaN</td>\n      <td>1.0</td>\n      <td>NaN</td>\n      <td>1.0</td>\n    </tr>\n    <tr>\n      <th>50%</th>\n      <td>1.411555e+05</td>\n      <td>130001.0</td>\n      <td>NaN</td>\n      <td>NaN</td>\n      <td>NaN</td>\n      <td>NaN</td>\n      <td>1.0</td>\n      <td>NaN</td>\n      <td>1.0</td>\n    </tr>\n    <tr>\n      <th>75%</th>\n      <td>2.116788e+05</td>\n      <td>130001.0</td>\n      <td>NaN</td>\n      <td>NaN</td>\n      <td>NaN</td>\n      <td>NaN</td>\n      <td>1.0</td>\n      <td>NaN</td>\n      <td>1.0</td>\n    </tr>\n    <tr>\n      <th>max</th>\n      <td>1.001007e+06</td>\n      <td>130001.0</td>\n      <td>NaN</td>\n      <td>NaN</td>\n      <td>NaN</td>\n      <td>NaN</td>\n      <td>1.0</td>\n      <td>NaN</td>\n      <td>1.0</td>\n    </tr>\n  </tbody>\n</table>\n</div>"
     },
     "metadata": {},
     "execution_count": 12
    }
   ],
   "source": [
    "df.describe()"
   ]
  },
  {
   "cell_type": "code",
   "execution_count": 18,
   "metadata": {},
   "outputs": [
    {
     "output_type": "execute_result",
     "data": {
      "text/plain": [
       "Index(['No', '全国地方公共団体コード', '都道府県名', '市区町村名', '公表_年月日', '発症_年月日', '確定_年月日',\n",
       "       '患者_居住地', '患者_年代', '患者_性別', '患者_職業', '患者_状態', '患者_症状', '患者_渡航歴の有無フラグ',\n",
       "       '患者_接触歴の有無フラグ', '備考', '退院済フラグ'],\n",
       "      dtype='object')"
      ]
     },
     "metadata": {},
     "execution_count": 18
    }
   ],
   "source": [
    "df.columns"
   ]
  },
  {
   "source": [
    "# profile reportの作成"
   ],
   "cell_type": "markdown",
   "metadata": {}
  },
  {
   "cell_type": "code",
   "execution_count": 6,
   "metadata": {},
   "outputs": [],
   "source": [
    "import os\n",
    "from pandas_profiling import ProfileReport"
   ]
  },
  {
   "cell_type": "code",
   "execution_count": 7,
   "metadata": {},
   "outputs": [
    {
     "output_type": "execute_result",
     "data": {
      "text/plain": [
       "'/Users/kagawakeiichiro/Documents/GitHub/covid19/tokyo'"
      ]
     },
     "metadata": {},
     "execution_count": 7
    }
   ],
   "source": [
    "CURRENT_DIR = %pwd\n",
    "CURRENT_DIR"
   ]
  },
  {
   "cell_type": "code",
   "execution_count": 8,
   "metadata": {},
   "outputs": [
    {
     "output_type": "stream",
     "name": "stdout",
     "text": [
      "analysis.ipynb  daily-week.py   \u001b[34moutputs\u001b[m\u001b[m/        week.ipynb\n"
     ]
    }
   ],
   "source": [
    "%ls"
   ]
  },
  {
   "cell_type": "code",
   "execution_count": 9,
   "metadata": {},
   "outputs": [],
   "source": [
    "# フォルダ「outputs」が存在しない場合は作成する\n",
    "outputs_dir = \"./outputs/\"\n",
    "if not os.path.exists(outputs_dir):\n",
    "    os.mkdir(outputs_dir)"
   ]
  },
  {
   "cell_type": "code",
   "execution_count": 10,
   "metadata": {
    "tags": [
     "outputPrepend"
    ]
   },
   "outputs": [
    {
     "output_type": "stream",
     "name": "stderr",
     "text": [
      "/Python.framework/Versions/3.9/lib/python3.9/site-packages/matplotlib/textpath.py:74: RuntimeWarning: Glyph 22269 missing from current font.\n",
      "  font.set_text(s, 0.0, flags=LOAD_NO_HINTING)\n",
      "/Library/Frameworks/Python.framework/Versions/3.9/lib/python3.9/site-packages/matplotlib/textpath.py:74: RuntimeWarning: Glyph 22320 missing from current font.\n",
      "  font.set_text(s, 0.0, flags=LOAD_NO_HINTING)\n",
      "/Library/Frameworks/Python.framework/Versions/3.9/lib/python3.9/site-packages/matplotlib/textpath.py:74: RuntimeWarning: Glyph 26041 missing from current font.\n",
      "  font.set_text(s, 0.0, flags=LOAD_NO_HINTING)\n",
      "/Library/Frameworks/Python.framework/Versions/3.9/lib/python3.9/site-packages/matplotlib/textpath.py:74: RuntimeWarning: Glyph 20844 missing from current font.\n",
      "  font.set_text(s, 0.0, flags=LOAD_NO_HINTING)\n",
      "/Library/Frameworks/Python.framework/Versions/3.9/lib/python3.9/site-packages/matplotlib/textpath.py:74: RuntimeWarning: Glyph 20849 missing from current font.\n",
      "  font.set_text(s, 0.0, flags=LOAD_NO_HINTING)\n",
      "/Library/Frameworks/Python.framework/Versions/3.9/lib/python3.9/site-packages/matplotlib/textpath.py:74: RuntimeWarning: Glyph 22243 missing from current font.\n",
      "  font.set_text(s, 0.0, flags=LOAD_NO_HINTING)\n",
      "/Library/Frameworks/Python.framework/Versions/3.9/lib/python3.9/site-packages/matplotlib/textpath.py:74: RuntimeWarning: Glyph 20307 missing from current font.\n",
      "  font.set_text(s, 0.0, flags=LOAD_NO_HINTING)\n",
      "/Library/Frameworks/Python.framework/Versions/3.9/lib/python3.9/site-packages/matplotlib/textpath.py:74: RuntimeWarning: Glyph 12467 missing from current font.\n",
      "  font.set_text(s, 0.0, flags=LOAD_NO_HINTING)\n",
      "/Library/Frameworks/Python.framework/Versions/3.9/lib/python3.9/site-packages/matplotlib/textpath.py:74: RuntimeWarning: Glyph 12540 missing from current font.\n",
      "  font.set_text(s, 0.0, flags=LOAD_NO_HINTING)\n",
      "/Library/Frameworks/Python.framework/Versions/3.9/lib/python3.9/site-packages/matplotlib/textpath.py:74: RuntimeWarning: Glyph 12489 missing from current font.\n",
      "  font.set_text(s, 0.0, flags=LOAD_NO_HINTING)\n",
      "/Library/Frameworks/Python.framework/Versions/3.9/lib/python3.9/site-packages/matplotlib/textpath.py:74: RuntimeWarning: Glyph 23621 missing from current font.\n",
      "  font.set_text(s, 0.0, flags=LOAD_NO_HINTING)\n",
      "/Library/Frameworks/Python.framework/Versions/3.9/lib/python3.9/site-packages/matplotlib/textpath.py:74: RuntimeWarning: Glyph 20303 missing from current font.\n",
      "  font.set_text(s, 0.0, flags=LOAD_NO_HINTING)\n",
      "/Library/Frameworks/Python.framework/Versions/3.9/lib/python3.9/site-packages/matplotlib/textpath.py:74: RuntimeWarning: Glyph 36864 missing from current font.\n",
      "  font.set_text(s, 0.0, flags=LOAD_NO_HINTING)\n",
      "/Library/Frameworks/Python.framework/Versions/3.9/lib/python3.9/site-packages/matplotlib/textpath.py:74: RuntimeWarning: Glyph 38498 missing from current font.\n",
      "  font.set_text(s, 0.0, flags=LOAD_NO_HINTING)\n",
      "/Library/Frameworks/Python.framework/Versions/3.9/lib/python3.9/site-packages/matplotlib/textpath.py:74: RuntimeWarning: Glyph 28168 missing from current font.\n",
      "  font.set_text(s, 0.0, flags=LOAD_NO_HINTING)\n",
      "/Library/Frameworks/Python.framework/Versions/3.9/lib/python3.9/site-packages/matplotlib/textpath.py:74: RuntimeWarning: Glyph 24180 missing from current font.\n",
      "  font.set_text(s, 0.0, flags=LOAD_NO_HINTING)\n",
      "/Library/Frameworks/Python.framework/Versions/3.9/lib/python3.9/site-packages/matplotlib/textpath.py:74: RuntimeWarning: Glyph 20195 missing from current font.\n",
      "  font.set_text(s, 0.0, flags=LOAD_NO_HINTING)\n",
      "/Library/Frameworks/Python.framework/Versions/3.9/lib/python3.9/site-packages/matplotlib/textpath.py:74: RuntimeWarning: Glyph 24615 missing from current font.\n",
      "  font.set_text(s, 0.0, flags=LOAD_NO_HINTING)\n",
      "/Library/Frameworks/Python.framework/Versions/3.9/lib/python3.9/site-packages/matplotlib/textpath.py:74: RuntimeWarning: Glyph 21029 missing from current font.\n",
      "  font.set_text(s, 0.0, flags=LOAD_NO_HINTING)\n",
      "/Library/Frameworks/Python.framework/Versions/3.9/lib/python3.9/site-packages/matplotlib/backends/backend_agg.py:238: RuntimeWarning: Glyph 37117 missing from current font.\n",
      "  font.set_text(s, 0.0, flags=flags)\n",
      "/Library/Frameworks/Python.framework/Versions/3.9/lib/python3.9/site-packages/matplotlib/backends/backend_agg.py:238: RuntimeWarning: Glyph 36947 missing from current font.\n",
      "  font.set_text(s, 0.0, flags=flags)\n",
      "/Library/Frameworks/Python.framework/Versions/3.9/lib/python3.9/site-packages/matplotlib/backends/backend_agg.py:238: RuntimeWarning: Glyph 24220 missing from current font.\n",
      "  font.set_text(s, 0.0, flags=flags)\n",
      "/Library/Frameworks/Python.framework/Versions/3.9/lib/python3.9/site-packages/matplotlib/backends/backend_agg.py:238: RuntimeWarning: Glyph 30476 missing from current font.\n",
      "  font.set_text(s, 0.0, flags=flags)\n",
      "/Library/Frameworks/Python.framework/Versions/3.9/lib/python3.9/site-packages/matplotlib/backends/backend_agg.py:238: RuntimeWarning: Glyph 21517 missing from current font.\n",
      "  font.set_text(s, 0.0, flags=flags)\n",
      "/Library/Frameworks/Python.framework/Versions/3.9/lib/python3.9/site-packages/matplotlib/backends/backend_agg.py:238: RuntimeWarning: Glyph 24739 missing from current font.\n",
      "  font.set_text(s, 0.0, flags=flags)\n",
      "/Library/Frameworks/Python.framework/Versions/3.9/lib/python3.9/site-packages/matplotlib/backends/backend_agg.py:238: RuntimeWarning: Glyph 32773 missing from current font.\n",
      "  font.set_text(s, 0.0, flags=flags)\n",
      "/Library/Frameworks/Python.framework/Versions/3.9/lib/python3.9/site-packages/matplotlib/backends/backend_agg.py:238: RuntimeWarning: Glyph 25509 missing from current font.\n",
      "  font.set_text(s, 0.0, flags=flags)\n",
      "/Library/Frameworks/Python.framework/Versions/3.9/lib/python3.9/site-packages/matplotlib/backends/backend_agg.py:238: RuntimeWarning: Glyph 35302 missing from current font.\n",
      "  font.set_text(s, 0.0, flags=flags)\n",
      "/Library/Frameworks/Python.framework/Versions/3.9/lib/python3.9/site-packages/matplotlib/backends/backend_agg.py:238: RuntimeWarning: Glyph 27508 missing from current font.\n",
      "  font.set_text(s, 0.0, flags=flags)\n",
      "/Library/Frameworks/Python.framework/Versions/3.9/lib/python3.9/site-packages/matplotlib/backends/backend_agg.py:238: RuntimeWarning: Glyph 12398 missing from current font.\n",
      "  font.set_text(s, 0.0, flags=flags)\n",
      "/Library/Frameworks/Python.framework/Versions/3.9/lib/python3.9/site-packages/matplotlib/backends/backend_agg.py:238: RuntimeWarning: Glyph 26377 missing from current font.\n",
      "  font.set_text(s, 0.0, flags=flags)\n",
      "/Library/Frameworks/Python.framework/Versions/3.9/lib/python3.9/site-packages/matplotlib/backends/backend_agg.py:238: RuntimeWarning: Glyph 28961 missing from current font.\n",
      "  font.set_text(s, 0.0, flags=flags)\n",
      "/Library/Frameworks/Python.framework/Versions/3.9/lib/python3.9/site-packages/matplotlib/backends/backend_agg.py:238: RuntimeWarning: Glyph 12501 missing from current font.\n",
      "  font.set_text(s, 0.0, flags=flags)\n",
      "/Library/Frameworks/Python.framework/Versions/3.9/lib/python3.9/site-packages/matplotlib/backends/backend_agg.py:238: RuntimeWarning: Glyph 12521 missing from current font.\n",
      "  font.set_text(s, 0.0, flags=flags)\n",
      "/Library/Frameworks/Python.framework/Versions/3.9/lib/python3.9/site-packages/matplotlib/backends/backend_agg.py:238: RuntimeWarning: Glyph 12464 missing from current font.\n",
      "  font.set_text(s, 0.0, flags=flags)\n",
      "/Library/Frameworks/Python.framework/Versions/3.9/lib/python3.9/site-packages/matplotlib/backends/backend_agg.py:238: RuntimeWarning: Glyph 32887 missing from current font.\n",
      "  font.set_text(s, 0.0, flags=flags)\n",
      "/Library/Frameworks/Python.framework/Versions/3.9/lib/python3.9/site-packages/matplotlib/backends/backend_agg.py:238: RuntimeWarning: Glyph 26989 missing from current font.\n",
      "  font.set_text(s, 0.0, flags=flags)\n",
      "/Library/Frameworks/Python.framework/Versions/3.9/lib/python3.9/site-packages/matplotlib/backends/backend_agg.py:238: RuntimeWarning: Glyph 20840 missing from current font.\n",
      "  font.set_text(s, 0.0, flags=flags)\n",
      "/Library/Frameworks/Python.framework/Versions/3.9/lib/python3.9/site-packages/matplotlib/backends/backend_agg.py:238: RuntimeWarning: Glyph 22269 missing from current font.\n",
      "  font.set_text(s, 0.0, flags=flags)\n",
      "/Library/Frameworks/Python.framework/Versions/3.9/lib/python3.9/site-packages/matplotlib/backends/backend_agg.py:238: RuntimeWarning: Glyph 22320 missing from current font.\n",
      "  font.set_text(s, 0.0, flags=flags)\n",
      "/Library/Frameworks/Python.framework/Versions/3.9/lib/python3.9/site-packages/matplotlib/backends/backend_agg.py:238: RuntimeWarning: Glyph 26041 missing from current font.\n",
      "  font.set_text(s, 0.0, flags=flags)\n",
      "/Library/Frameworks/Python.framework/Versions/3.9/lib/python3.9/site-packages/matplotlib/backends/backend_agg.py:238: RuntimeWarning: Glyph 20844 missing from current font.\n",
      "  font.set_text(s, 0.0, flags=flags)\n",
      "/Library/Frameworks/Python.framework/Versions/3.9/lib/python3.9/site-packages/matplotlib/backends/backend_agg.py:238: RuntimeWarning: Glyph 20849 missing from current font.\n",
      "  font.set_text(s, 0.0, flags=flags)\n",
      "/Library/Frameworks/Python.framework/Versions/3.9/lib/python3.9/site-packages/matplotlib/backends/backend_agg.py:238: RuntimeWarning: Glyph 22243 missing from current font.\n",
      "  font.set_text(s, 0.0, flags=flags)\n",
      "/Library/Frameworks/Python.framework/Versions/3.9/lib/python3.9/site-packages/matplotlib/backends/backend_agg.py:238: RuntimeWarning: Glyph 20307 missing from current font.\n",
      "  font.set_text(s, 0.0, flags=flags)\n",
      "/Library/Frameworks/Python.framework/Versions/3.9/lib/python3.9/site-packages/matplotlib/backends/backend_agg.py:238: RuntimeWarning: Glyph 12467 missing from current font.\n",
      "  font.set_text(s, 0.0, flags=flags)\n",
      "/Library/Frameworks/Python.framework/Versions/3.9/lib/python3.9/site-packages/matplotlib/backends/backend_agg.py:238: RuntimeWarning: Glyph 12540 missing from current font.\n",
      "  font.set_text(s, 0.0, flags=flags)\n",
      "/Library/Frameworks/Python.framework/Versions/3.9/lib/python3.9/site-packages/matplotlib/backends/backend_agg.py:238: RuntimeWarning: Glyph 12489 missing from current font.\n",
      "  font.set_text(s, 0.0, flags=flags)\n",
      "/Library/Frameworks/Python.framework/Versions/3.9/lib/python3.9/site-packages/matplotlib/backends/backend_agg.py:238: RuntimeWarning: Glyph 23621 missing from current font.\n",
      "  font.set_text(s, 0.0, flags=flags)\n",
      "/Library/Frameworks/Python.framework/Versions/3.9/lib/python3.9/site-packages/matplotlib/backends/backend_agg.py:238: RuntimeWarning: Glyph 20303 missing from current font.\n",
      "  font.set_text(s, 0.0, flags=flags)\n",
      "/Library/Frameworks/Python.framework/Versions/3.9/lib/python3.9/site-packages/matplotlib/backends/backend_agg.py:238: RuntimeWarning: Glyph 36864 missing from current font.\n",
      "  font.set_text(s, 0.0, flags=flags)\n",
      "/Library/Frameworks/Python.framework/Versions/3.9/lib/python3.9/site-packages/matplotlib/backends/backend_agg.py:238: RuntimeWarning: Glyph 38498 missing from current font.\n",
      "  font.set_text(s, 0.0, flags=flags)\n",
      "/Library/Frameworks/Python.framework/Versions/3.9/lib/python3.9/site-packages/matplotlib/backends/backend_agg.py:238: RuntimeWarning: Glyph 28168 missing from current font.\n",
      "  font.set_text(s, 0.0, flags=flags)\n",
      "/Library/Frameworks/Python.framework/Versions/3.9/lib/python3.9/site-packages/matplotlib/backends/backend_agg.py:238: RuntimeWarning: Glyph 24180 missing from current font.\n",
      "  font.set_text(s, 0.0, flags=flags)\n",
      "/Library/Frameworks/Python.framework/Versions/3.9/lib/python3.9/site-packages/matplotlib/backends/backend_agg.py:238: RuntimeWarning: Glyph 20195 missing from current font.\n",
      "  font.set_text(s, 0.0, flags=flags)\n",
      "/Library/Frameworks/Python.framework/Versions/3.9/lib/python3.9/site-packages/matplotlib/backends/backend_agg.py:238: RuntimeWarning: Glyph 24615 missing from current font.\n",
      "  font.set_text(s, 0.0, flags=flags)\n",
      "/Library/Frameworks/Python.framework/Versions/3.9/lib/python3.9/site-packages/matplotlib/backends/backend_agg.py:238: RuntimeWarning: Glyph 21029 missing from current font.\n",
      "  font.set_text(s, 0.0, flags=flags)\n",
      "/Library/Frameworks/Python.framework/Versions/3.9/lib/python3.9/site-packages/matplotlib/backends/backend_agg.py:201: RuntimeWarning: Glyph 37117 missing from current font.\n",
      "  font.set_text(s, 0, flags=flags)\n",
      "/Library/Frameworks/Python.framework/Versions/3.9/lib/python3.9/site-packages/matplotlib/backends/backend_agg.py:201: RuntimeWarning: Glyph 36947 missing from current font.\n",
      "  font.set_text(s, 0, flags=flags)\n",
      "/Library/Frameworks/Python.framework/Versions/3.9/lib/python3.9/site-packages/matplotlib/backends/backend_agg.py:201: RuntimeWarning: Glyph 24220 missing from current font.\n",
      "  font.set_text(s, 0, flags=flags)\n",
      "/Library/Frameworks/Python.framework/Versions/3.9/lib/python3.9/site-packages/matplotlib/backends/backend_agg.py:201: RuntimeWarning: Glyph 30476 missing from current font.\n",
      "  font.set_text(s, 0, flags=flags)\n",
      "/Library/Frameworks/Python.framework/Versions/3.9/lib/python3.9/site-packages/matplotlib/backends/backend_agg.py:201: RuntimeWarning: Glyph 21517 missing from current font.\n",
      "  font.set_text(s, 0, flags=flags)\n",
      "/Library/Frameworks/Python.framework/Versions/3.9/lib/python3.9/site-packages/matplotlib/backends/backend_agg.py:201: RuntimeWarning: Glyph 24739 missing from current font.\n",
      "  font.set_text(s, 0, flags=flags)\n",
      "/Library/Frameworks/Python.framework/Versions/3.9/lib/python3.9/site-packages/matplotlib/backends/backend_agg.py:201: RuntimeWarning: Glyph 32773 missing from current font.\n",
      "  font.set_text(s, 0, flags=flags)\n",
      "/Library/Frameworks/Python.framework/Versions/3.9/lib/python3.9/site-packages/matplotlib/backends/backend_agg.py:201: RuntimeWarning: Glyph 25509 missing from current font.\n",
      "  font.set_text(s, 0, flags=flags)\n",
      "/Library/Frameworks/Python.framework/Versions/3.9/lib/python3.9/site-packages/matplotlib/backends/backend_agg.py:201: RuntimeWarning: Glyph 35302 missing from current font.\n",
      "  font.set_text(s, 0, flags=flags)\n",
      "/Library/Frameworks/Python.framework/Versions/3.9/lib/python3.9/site-packages/matplotlib/backends/backend_agg.py:201: RuntimeWarning: Glyph 27508 missing from current font.\n",
      "  font.set_text(s, 0, flags=flags)\n",
      "/Library/Frameworks/Python.framework/Versions/3.9/lib/python3.9/site-packages/matplotlib/backends/backend_agg.py:201: RuntimeWarning: Glyph 12398 missing from current font.\n",
      "  font.set_text(s, 0, flags=flags)\n",
      "/Library/Frameworks/Python.framework/Versions/3.9/lib/python3.9/site-packages/matplotlib/backends/backend_agg.py:201: RuntimeWarning: Glyph 26377 missing from current font.\n",
      "  font.set_text(s, 0, flags=flags)\n",
      "/Library/Frameworks/Python.framework/Versions/3.9/lib/python3.9/site-packages/matplotlib/backends/backend_agg.py:201: RuntimeWarning: Glyph 28961 missing from current font.\n",
      "  font.set_text(s, 0, flags=flags)\n",
      "/Library/Frameworks/Python.framework/Versions/3.9/lib/python3.9/site-packages/matplotlib/backends/backend_agg.py:201: RuntimeWarning: Glyph 12501 missing from current font.\n",
      "  font.set_text(s, 0, flags=flags)\n",
      "/Library/Frameworks/Python.framework/Versions/3.9/lib/python3.9/site-packages/matplotlib/backends/backend_agg.py:201: RuntimeWarning: Glyph 12521 missing from current font.\n",
      "  font.set_text(s, 0, flags=flags)\n",
      "/Library/Frameworks/Python.framework/Versions/3.9/lib/python3.9/site-packages/matplotlib/backends/backend_agg.py:201: RuntimeWarning: Glyph 12464 missing from current font.\n",
      "  font.set_text(s, 0, flags=flags)\n",
      "/Library/Frameworks/Python.framework/Versions/3.9/lib/python3.9/site-packages/matplotlib/backends/backend_agg.py:201: RuntimeWarning: Glyph 32887 missing from current font.\n",
      "  font.set_text(s, 0, flags=flags)\n",
      "/Library/Frameworks/Python.framework/Versions/3.9/lib/python3.9/site-packages/matplotlib/backends/backend_agg.py:201: RuntimeWarning: Glyph 26989 missing from current font.\n",
      "  font.set_text(s, 0, flags=flags)\n",
      "/Library/Frameworks/Python.framework/Versions/3.9/lib/python3.9/site-packages/matplotlib/backends/backend_agg.py:201: RuntimeWarning: Glyph 20840 missing from current font.\n",
      "  font.set_text(s, 0, flags=flags)\n",
      "/Library/Frameworks/Python.framework/Versions/3.9/lib/python3.9/site-packages/matplotlib/backends/backend_agg.py:201: RuntimeWarning: Glyph 22269 missing from current font.\n",
      "  font.set_text(s, 0, flags=flags)\n",
      "/Library/Frameworks/Python.framework/Versions/3.9/lib/python3.9/site-packages/matplotlib/backends/backend_agg.py:201: RuntimeWarning: Glyph 22320 missing from current font.\n",
      "  font.set_text(s, 0, flags=flags)\n",
      "/Library/Frameworks/Python.framework/Versions/3.9/lib/python3.9/site-packages/matplotlib/backends/backend_agg.py:201: RuntimeWarning: Glyph 26041 missing from current font.\n",
      "  font.set_text(s, 0, flags=flags)\n",
      "/Library/Frameworks/Python.framework/Versions/3.9/lib/python3.9/site-packages/matplotlib/backends/backend_agg.py:201: RuntimeWarning: Glyph 20844 missing from current font.\n",
      "  font.set_text(s, 0, flags=flags)\n",
      "/Library/Frameworks/Python.framework/Versions/3.9/lib/python3.9/site-packages/matplotlib/backends/backend_agg.py:201: RuntimeWarning: Glyph 20849 missing from current font.\n",
      "  font.set_text(s, 0, flags=flags)\n",
      "/Library/Frameworks/Python.framework/Versions/3.9/lib/python3.9/site-packages/matplotlib/backends/backend_agg.py:201: RuntimeWarning: Glyph 22243 missing from current font.\n",
      "  font.set_text(s, 0, flags=flags)\n",
      "/Library/Frameworks/Python.framework/Versions/3.9/lib/python3.9/site-packages/matplotlib/backends/backend_agg.py:201: RuntimeWarning: Glyph 20307 missing from current font.\n",
      "  font.set_text(s, 0, flags=flags)\n",
      "/Library/Frameworks/Python.framework/Versions/3.9/lib/python3.9/site-packages/matplotlib/backends/backend_agg.py:201: RuntimeWarning: Glyph 12467 missing from current font.\n",
      "  font.set_text(s, 0, flags=flags)\n",
      "/Library/Frameworks/Python.framework/Versions/3.9/lib/python3.9/site-packages/matplotlib/backends/backend_agg.py:201: RuntimeWarning: Glyph 12540 missing from current font.\n",
      "  font.set_text(s, 0, flags=flags)\n",
      "/Library/Frameworks/Python.framework/Versions/3.9/lib/python3.9/site-packages/matplotlib/backends/backend_agg.py:201: RuntimeWarning: Glyph 12489 missing from current font.\n",
      "  font.set_text(s, 0, flags=flags)\n",
      "/Library/Frameworks/Python.framework/Versions/3.9/lib/python3.9/site-packages/matplotlib/backends/backend_agg.py:201: RuntimeWarning: Glyph 23621 missing from current font.\n",
      "  font.set_text(s, 0, flags=flags)\n",
      "/Library/Frameworks/Python.framework/Versions/3.9/lib/python3.9/site-packages/matplotlib/backends/backend_agg.py:201: RuntimeWarning: Glyph 20303 missing from current font.\n",
      "  font.set_text(s, 0, flags=flags)\n",
      "/Library/Frameworks/Python.framework/Versions/3.9/lib/python3.9/site-packages/matplotlib/backends/backend_agg.py:201: RuntimeWarning: Glyph 36864 missing from current font.\n",
      "  font.set_text(s, 0, flags=flags)\n",
      "/Library/Frameworks/Python.framework/Versions/3.9/lib/python3.9/site-packages/matplotlib/backends/backend_agg.py:201: RuntimeWarning: Glyph 38498 missing from current font.\n",
      "  font.set_text(s, 0, flags=flags)\n",
      "/Library/Frameworks/Python.framework/Versions/3.9/lib/python3.9/site-packages/matplotlib/backends/backend_agg.py:201: RuntimeWarning: Glyph 28168 missing from current font.\n",
      "  font.set_text(s, 0, flags=flags)\n",
      "/Library/Frameworks/Python.framework/Versions/3.9/lib/python3.9/site-packages/matplotlib/backends/backend_agg.py:201: RuntimeWarning: Glyph 24180 missing from current font.\n",
      "  font.set_text(s, 0, flags=flags)\n",
      "/Library/Frameworks/Python.framework/Versions/3.9/lib/python3.9/site-packages/matplotlib/backends/backend_agg.py:201: RuntimeWarning: Glyph 20195 missing from current font.\n",
      "  font.set_text(s, 0, flags=flags)\n",
      "/Library/Frameworks/Python.framework/Versions/3.9/lib/python3.9/site-packages/matplotlib/backends/backend_agg.py:201: RuntimeWarning: Glyph 24615 missing from current font.\n",
      "  font.set_text(s, 0, flags=flags)\n",
      "/Library/Frameworks/Python.framework/Versions/3.9/lib/python3.9/site-packages/matplotlib/backends/backend_agg.py:201: RuntimeWarning: Glyph 21029 missing from current font.\n",
      "  font.set_text(s, 0, flags=flags)\n",
      "Generate report structure: 100%|██████████| 1/1 [00:04<00:00,  4.77s/it]\n",
      "Render HTML: 100%|██████████| 1/1 [00:00<00:00,  1.43it/s]\n",
      "Export report to file: 100%|██████████| 1/1 [00:00<00:00, 260.60it/s]\n"
     ]
    }
   ],
   "source": [
    "report = ProfileReport(df)\n",
    "report.to_file(os.path.join(outputs_dir, \"ProfileReport.html\"))"
   ]
  },
  {
   "source": [
    "# テスト"
   ],
   "cell_type": "markdown",
   "metadata": {}
  },
  {
   "cell_type": "code",
   "execution_count": 41,
   "metadata": {},
   "outputs": [
    {
     "output_type": "execute_result",
     "data": {
      "text/plain": [
       "231096    2021-08-04\n",
       "231097    2021-08-04\n",
       "231098    2021-08-03\n",
       "231099    2021-08-03\n",
       "231100    2021-07-31\n",
       "             ...    \n",
       "236133    2021-08-03\n",
       "236134    2021-08-04\n",
       "236135    2021-08-04\n",
       "236136    2021-08-04\n",
       "236137    2021-08-04\n",
       "Name: 確定_年月日, Length: 5042, dtype: object"
      ]
     },
     "metadata": {},
     "execution_count": 41
    }
   ],
   "source": [
    "df.公表_年月日\n",
    "df[df.公表_年月日=='2021-08-05'].確定_年月日.dropna()"
   ]
  },
  {
   "cell_type": "code",
   "execution_count": 74,
   "metadata": {},
   "outputs": [
    {
     "output_type": "display_data",
     "data": {
      "text/plain": "<Figure size 432x288 with 1 Axes>",
      "image/svg+xml": "<?xml version=\"1.0\" encoding=\"utf-8\" standalone=\"no\"?>\n<!DOCTYPE svg PUBLIC \"-//W3C//DTD SVG 1.1//EN\"\n  \"http://www.w3.org/Graphics/SVG/1.1/DTD/svg11.dtd\">\n<!-- Created with matplotlib (https://matplotlib.org/) -->\n<svg height=\"296.386875pt\" version=\"1.1\" viewBox=\"0 0 373.6 296.386875\" width=\"373.6pt\" xmlns=\"http://www.w3.org/2000/svg\" xmlns:xlink=\"http://www.w3.org/1999/xlink\">\n <metadata>\n  <rdf:RDF xmlns:cc=\"http://creativecommons.org/ns#\" xmlns:dc=\"http://purl.org/dc/elements/1.1/\" xmlns:rdf=\"http://www.w3.org/1999/02/22-rdf-syntax-ns#\">\n   <cc:Work>\n    <dc:type rdf:resource=\"http://purl.org/dc/dcmitype/StillImage\"/>\n    <dc:date>2021-08-17T11:12:53.988082</dc:date>\n    <dc:format>image/svg+xml</dc:format>\n    <dc:creator>\n     <cc:Agent>\n      <dc:title>Matplotlib v3.3.3, https://matplotlib.org/</dc:title>\n     </cc:Agent>\n    </dc:creator>\n   </cc:Work>\n  </rdf:RDF>\n </metadata>\n <defs>\n  <style type=\"text/css\">*{stroke-linecap:butt;stroke-linejoin:round;}</style>\n </defs>\n <g id=\"figure_1\">\n  <g id=\"patch_1\">\n   <path d=\"M 0 296.386875 \nL 373.6 296.386875 \nL 373.6 0 \nL 0 0 \nz\n\" style=\"fill:none;\"/>\n  </g>\n  <g id=\"axes_1\">\n   <g id=\"patch_2\">\n    <path d=\"M 31.6 224.64 \nL 366.4 224.64 \nL 366.4 7.2 \nL 31.6 7.2 \nz\n\" style=\"fill:#ffffff;\"/>\n   </g>\n   <g id=\"patch_3\">\n    <path clip-path=\"url(#pa67f88f652)\" d=\"M 46.818182 56708.829878 \nL 61.311688 56708.829878 \nL 61.311688 214.756364 \nL 46.818182 214.756364 \nz\n\" style=\"fill:#1f77b4;opacity:0.5;\"/>\n   </g>\n   <g id=\"patch_4\">\n    <path clip-path=\"url(#pa67f88f652)\" d=\"M 64.935065 56708.829878 \nL 79.428571 56708.829878 \nL 79.428571 214.756364 \nL 64.935065 214.756364 \nz\n\" style=\"fill:#1f77b4;opacity:0.5;\"/>\n   </g>\n   <g id=\"patch_5\">\n    <path clip-path=\"url(#pa67f88f652)\" d=\"M 83.051948 56708.829878 \nL 97.545455 56708.829878 \nL 97.545455 214.756364 \nL 83.051948 214.756364 \nz\n\" style=\"fill:#1f77b4;opacity:0.5;\"/>\n   </g>\n   <g id=\"patch_6\">\n    <path clip-path=\"url(#pa67f88f652)\" d=\"M 101.168831 56708.829878 \nL 115.662338 56708.829878 \nL 115.662338 197.749953 \nL 101.168831 197.749953 \nz\n\" style=\"fill:#1f77b4;opacity:0.5;\"/>\n   </g>\n   <g id=\"patch_7\">\n    <path clip-path=\"url(#pa67f88f652)\" d=\"M 119.285714 56708.829878 \nL 133.779221 56708.829878 \nL 133.779221 175.268701 \nL 119.285714 175.268701 \nz\n\" style=\"fill:#1f77b4;opacity:0.5;\"/>\n   </g>\n   <g id=\"patch_8\">\n    <path clip-path=\"url(#pa67f88f652)\" d=\"M 137.402597 56708.829878 \nL 151.896104 56708.829878 \nL 151.896104 158.26229 \nL 137.402597 158.26229 \nz\n\" style=\"fill:#1f77b4;opacity:0.5;\"/>\n   </g>\n   <g id=\"patch_9\">\n    <path clip-path=\"url(#pa67f88f652)\" d=\"M 155.519481 56708.829878 \nL 170.012987 56708.829878 \nL 170.012987 214.756364 \nL 155.519481 214.756364 \nz\n\" style=\"fill:#1f77b4;opacity:0.5;\"/>\n   </g>\n   <g id=\"patch_10\">\n    <path clip-path=\"url(#pa67f88f652)\" d=\"M 173.636364 56708.829878 \nL 188.12987 56708.829878 \nL 188.12987 170.79543 \nL 173.636364 170.79543 \nz\n\" style=\"fill:#1f77b4;opacity:0.5;\"/>\n   </g>\n   <g id=\"patch_11\">\n    <path clip-path=\"url(#pa67f88f652)\" d=\"M 191.753247 56708.829878 \nL 206.246753 56708.829878 \nL 206.246753 136.782608 \nL 191.753247 136.782608 \nz\n\" style=\"fill:#1f77b4;opacity:0.5;\"/>\n   </g>\n   <g id=\"patch_12\">\n    <path clip-path=\"url(#pa67f88f652)\" d=\"M 209.87013 56708.829878 \nL 224.363636 56708.829878 \nL 224.363636 130.503266 \nL 209.87013 130.503266 \nz\n\" style=\"fill:#1f77b4;opacity:0.5;\"/>\n   </g>\n   <g id=\"patch_13\">\n    <path clip-path=\"url(#pa67f88f652)\" d=\"M 227.987013 56708.829878 \nL 242.480519 56708.829878 \nL 242.480519 102.515535 \nL 227.987013 102.515535 \nz\n\" style=\"fill:#1f77b4;opacity:0.5;\"/>\n   </g>\n   <g id=\"patch_14\">\n    <path clip-path=\"url(#pa67f88f652)\" d=\"M 246.103896 56708.829878 \nL 260.597403 56708.829878 \nL 260.597403 90.701047 \nL 246.103896 90.701047 \nz\n\" style=\"fill:#1f77b4;opacity:0.5;\"/>\n   </g>\n   <g id=\"patch_15\">\n    <path clip-path=\"url(#pa67f88f652)\" d=\"M 264.220779 56708.829878 \nL 278.714286 56708.829878 \nL 278.714286 99.653841 \nL 264.220779 99.653841 \nz\n\" style=\"fill:#1f77b4;opacity:0.5;\"/>\n   </g>\n   <g id=\"patch_16\">\n    <path clip-path=\"url(#pa67f88f652)\" d=\"M 282.337662 56708.829878 \nL 296.831169 56708.829878 \nL 296.831169 46.352505 \nL 282.337662 46.352505 \nz\n\" style=\"fill:#1f77b4;opacity:0.5;\"/>\n   </g>\n   <g id=\"patch_17\">\n    <path clip-path=\"url(#pa67f88f652)\" d=\"M 300.454545 56708.829878 \nL 314.948052 56708.829878 \nL 314.948052 17.083636 \nL 300.454545 17.083636 \nz\n\" style=\"fill:#1f77b4;opacity:0.5;\"/>\n   </g>\n   <g id=\"patch_18\">\n    <path clip-path=\"url(#pa67f88f652)\" d=\"M 318.571429 56708.829878 \nL 333.064935 56708.829878 \nL 333.064935 160.847317 \nL 318.571429 160.847317 \nz\n\" style=\"fill:#1f77b4;opacity:0.5;\"/>\n   </g>\n   <g id=\"patch_19\">\n    <path clip-path=\"url(#pa67f88f652)\" d=\"M 209.87013 56708.829878 \nL 224.363636 56708.829878 \nL 224.363636 180.743542 \nL 209.87013 180.743542 \nz\n\" style=\"fill:#ff7f0e;opacity:0.5;\"/>\n   </g>\n   <g id=\"patch_20\">\n    <path clip-path=\"url(#pa67f88f652)\" d=\"M 227.987013 56708.829878 \nL 242.480519 56708.829878 \nL 242.480519 160.847317 \nL 227.987013 160.847317 \nz\n\" style=\"fill:#ff7f0e;opacity:0.5;\"/>\n   </g>\n   <g id=\"patch_21\">\n    <path clip-path=\"url(#pa67f88f652)\" d=\"M 246.103896 56708.829878 \nL 260.597403 56708.829878 \nL 260.597403 108.501542 \nL 246.103896 108.501542 \nz\n\" style=\"fill:#ff7f0e;opacity:0.5;\"/>\n   </g>\n   <g id=\"patch_22\">\n    <path clip-path=\"url(#pa67f88f652)\" d=\"M 264.220779 56708.829878 \nL 278.714286 56708.829878 \nL 278.714286 107.551679 \nL 264.220779 107.551679 \nz\n\" style=\"fill:#ff7f0e;opacity:0.5;\"/>\n   </g>\n   <g id=\"patch_23\">\n    <path clip-path=\"url(#pa67f88f652)\" d=\"M 282.337662 56708.829878 \nL 296.831169 56708.829878 \nL 296.831169 100.571147 \nL 282.337662 100.571147 \nz\n\" style=\"fill:#ff7f0e;opacity:0.5;\"/>\n   </g>\n   <g id=\"patch_24\">\n    <path clip-path=\"url(#pa67f88f652)\" d=\"M 300.454545 56708.829878 \nL 314.948052 56708.829878 \nL 314.948052 42.713663 \nL 300.454545 42.713663 \nz\n\" style=\"fill:#ff7f0e;opacity:0.5;\"/>\n   </g>\n   <g id=\"patch_25\">\n    <path clip-path=\"url(#pa67f88f652)\" d=\"M 318.571429 56708.829878 \nL 333.064935 56708.829878 \nL 333.064935 21.077911 \nL 318.571429 21.077911 \nz\n\" style=\"fill:#ff7f0e;opacity:0.5;\"/>\n   </g>\n   <g id=\"patch_26\">\n    <path clip-path=\"url(#pa67f88f652)\" d=\"M 336.688312 56708.829878 \nL 351.181818 56708.829878 \nL 351.181818 197.749953 \nL 336.688312 197.749953 \nz\n\" style=\"fill:#ff7f0e;opacity:0.5;\"/>\n   </g>\n   <g id=\"matplotlib.axis_1\">\n    <g id=\"xtick_1\">\n     <g id=\"line2d_1\">\n      <defs>\n       <path d=\"M 0 0 \nL 0 3.5 \n\" id=\"mb62fe34795\" style=\"stroke:#000000;stroke-width:0.8;\"/>\n      </defs>\n      <g>\n       <use style=\"stroke:#000000;stroke-width:0.8;\" x=\"54.064935\" xlink:href=\"#mb62fe34795\" y=\"224.64\"/>\n      </g>\n     </g>\n     <g id=\"text_1\">\n      <!-- 2021-07-21 -->\n      <g transform=\"translate(56.860248 289.186875)rotate(-90)scale(0.1 -0.1)\">\n       <defs>\n        <path d=\"M 57.171875 0.984375 \nL 6.984375 0.984375 \nL 6.984375 9.28125 \nQ 12.890625 23.046875 29.59375 34.421875 \nL 32.375 36.28125 \nQ 40.921875 42.140625 43.609375 45.40625 \nQ 46.6875 49.265625 46.6875 53.8125 \nQ 46.6875 58.9375 43.0625 62.546875 \nQ 39.0625 66.546875 32.5625 66.546875 \nQ 19.53125 66.546875 15.484375 52 \nL 7.765625 54.78125 \nQ 13.328125 73.828125 33.0625 73.828125 \nQ 43.84375 73.828125 50.25 67.4375 \nQ 55.859375 61.671875 55.859375 53.515625 \nQ 55.859375 47.46875 52.25 42.53125 \nQ 48.921875 37.75 36.96875 30.28125 \nL 34.859375 29 \nQ 19.625 19.578125 15.28125 8.890625 \nL 57.171875 8.890625 \nz\n\" id=\"IPAexGothic-50\"/>\n        <path d=\"M 31.84375 73.828125 \nQ 45.015625 73.828125 52.09375 61.625 \nQ 57.71875 51.953125 57.71875 36.625 \nQ 57.71875 21.4375 52.09375 11.578125 \nQ 45.125 -0.484375 31.5 -0.484375 \nQ 17.921875 -0.484375 10.9375 11.578125 \nQ 5.328125 21.4375 5.328125 36.71875 \nQ 5.328125 58.015625 15.625 67.71875 \nQ 22.171875 73.828125 31.84375 73.828125 \nz\nM 31.5 66.65625 \nQ 23.6875 66.65625 19.1875 58.734375 \nQ 14.59375 50.734375 14.59375 36.625 \nQ 14.59375 22.75 19.09375 14.796875 \nQ 23.640625 6.984375 31.5 6.984375 \nQ 40.921875 6.984375 45.453125 18.015625 \nQ 48.4375 25.34375 48.4375 37.109375 \nQ 48.4375 50.875 43.84375 58.734375 \nQ 39.203125 66.65625 31.5 66.65625 \nz\n\" id=\"IPAexGothic-48\"/>\n        <path d=\"M 38.484375 0.984375 \nL 29.6875 0.984375 \nL 29.6875 64.109375 \nQ 21.4375 61.28125 12.3125 59.328125 \nL 10.6875 66.109375 \nQ 23.734375 69.390625 32.90625 73.921875 \nL 38.484375 73.921875 \nz\n\" id=\"IPAexGothic-49\"/>\n        <path d=\"M 30.765625 26.609375 \nL 4.984375 26.609375 \nL 4.984375 34.421875 \nL 30.765625 34.421875 \nz\n\" id=\"IPAexGothic-45\"/>\n        <path d=\"M 56.203125 66.609375 \nQ 34.96875 32.90625 27.78125 0.984375 \nL 17.671875 0.984375 \nQ 24.703125 28.65625 46.09375 64.5 \nL 6.6875 64.5 \nL 6.6875 72.40625 \nL 56.203125 72.40625 \nz\n\" id=\"IPAexGothic-55\"/>\n       </defs>\n       <use xlink:href=\"#IPAexGothic-50\"/>\n       <use x=\"62.988281\" xlink:href=\"#IPAexGothic-48\"/>\n       <use x=\"125.976562\" xlink:href=\"#IPAexGothic-50\"/>\n       <use x=\"188.964844\" xlink:href=\"#IPAexGothic-49\"/>\n       <use x=\"251.953125\" xlink:href=\"#IPAexGothic-45\"/>\n       <use x=\"287.744141\" xlink:href=\"#IPAexGothic-48\"/>\n       <use x=\"350.732422\" xlink:href=\"#IPAexGothic-55\"/>\n       <use x=\"413.720703\" xlink:href=\"#IPAexGothic-45\"/>\n       <use x=\"449.511719\" xlink:href=\"#IPAexGothic-50\"/>\n       <use x=\"512.5\" xlink:href=\"#IPAexGothic-49\"/>\n      </g>\n     </g>\n    </g>\n    <g id=\"xtick_2\">\n     <g id=\"line2d_2\">\n      <g>\n       <use style=\"stroke:#000000;stroke-width:0.8;\" x=\"72.181818\" xlink:href=\"#mb62fe34795\" y=\"224.64\"/>\n      </g>\n     </g>\n     <g id=\"text_2\">\n      <!-- 2021-07-24 -->\n      <g transform=\"translate(74.977131 289.186875)rotate(-90)scale(0.1 -0.1)\">\n       <defs>\n        <path d=\"M 59.578125 18.109375 \nL 47.796875 18.109375 \nL 47.796875 0.984375 \nL 39.796875 0.984375 \nL 39.796875 18.109375 \nL 3.078125 18.109375 \nL 3.078125 26.125 \nL 38.375 73.09375 \nL 47.796875 73.09375 \nL 47.796875 25.53125 \nL 59.578125 25.53125 \nz\nM 40.28125 64.203125 \nL 39.984375 64.203125 \nQ 35.59375 57.125 31.296875 51.3125 \nL 11.859375 25.53125 \nL 39.796875 25.53125 \nL 39.796875 49.125 \nQ 39.796875 54.390625 40.28125 64.203125 \nz\n\" id=\"IPAexGothic-52\"/>\n       </defs>\n       <use xlink:href=\"#IPAexGothic-50\"/>\n       <use x=\"62.988281\" xlink:href=\"#IPAexGothic-48\"/>\n       <use x=\"125.976562\" xlink:href=\"#IPAexGothic-50\"/>\n       <use x=\"188.964844\" xlink:href=\"#IPAexGothic-49\"/>\n       <use x=\"251.953125\" xlink:href=\"#IPAexGothic-45\"/>\n       <use x=\"287.744141\" xlink:href=\"#IPAexGothic-48\"/>\n       <use x=\"350.732422\" xlink:href=\"#IPAexGothic-55\"/>\n       <use x=\"413.720703\" xlink:href=\"#IPAexGothic-45\"/>\n       <use x=\"449.511719\" xlink:href=\"#IPAexGothic-50\"/>\n       <use x=\"512.5\" xlink:href=\"#IPAexGothic-52\"/>\n      </g>\n     </g>\n    </g>\n    <g id=\"xtick_3\">\n     <g id=\"line2d_3\">\n      <g>\n       <use style=\"stroke:#000000;stroke-width:0.8;\" x=\"90.298701\" xlink:href=\"#mb62fe34795\" y=\"224.64\"/>\n      </g>\n     </g>\n     <g id=\"text_3\">\n      <!-- 2021-07-25 -->\n      <g transform=\"translate(93.094014 289.186875)rotate(-90)scale(0.1 -0.1)\">\n       <defs>\n        <path d=\"M 18.40625 40.671875 \nQ 25.53125 46.296875 33.9375 46.296875 \nQ 44 46.296875 50.640625 39.5 \nQ 56.84375 33.015625 56.84375 23.390625 \nQ 56.84375 14.65625 51.515625 8.015625 \nQ 44.828125 -0.484375 31.734375 -0.484375 \nQ 14.984375 -0.484375 7.328125 12.25 \nL 14.65625 16.0625 \nQ 20.453125 6.78125 31.453125 6.78125 \nQ 38.53125 6.78125 43.265625 11.1875 \nQ 48.140625 15.828125 48.140625 23.484375 \nQ 48.140625 30.71875 43.84375 35.015625 \nQ 39.359375 39.5 32.125 39.5 \nQ 21.96875 39.5 16.75 31.6875 \nL 9.234375 32.671875 \nL 13.8125 72.40625 \nL 53.21875 72.40625 \nL 53.21875 64.890625 \nL 20.953125 64.890625 \nL 17.71875 40.671875 \nz\n\" id=\"IPAexGothic-53\"/>\n       </defs>\n       <use xlink:href=\"#IPAexGothic-50\"/>\n       <use x=\"62.988281\" xlink:href=\"#IPAexGothic-48\"/>\n       <use x=\"125.976562\" xlink:href=\"#IPAexGothic-50\"/>\n       <use x=\"188.964844\" xlink:href=\"#IPAexGothic-49\"/>\n       <use x=\"251.953125\" xlink:href=\"#IPAexGothic-45\"/>\n       <use x=\"287.744141\" xlink:href=\"#IPAexGothic-48\"/>\n       <use x=\"350.732422\" xlink:href=\"#IPAexGothic-55\"/>\n       <use x=\"413.720703\" xlink:href=\"#IPAexGothic-45\"/>\n       <use x=\"449.511719\" xlink:href=\"#IPAexGothic-50\"/>\n       <use x=\"512.5\" xlink:href=\"#IPAexGothic-53\"/>\n      </g>\n     </g>\n    </g>\n    <g id=\"xtick_4\">\n     <g id=\"line2d_4\">\n      <g>\n       <use style=\"stroke:#000000;stroke-width:0.8;\" x=\"108.415584\" xlink:href=\"#mb62fe34795\" y=\"224.64\"/>\n      </g>\n     </g>\n     <g id=\"text_4\">\n      <!-- 2021-07-26 -->\n      <g transform=\"translate(111.210897 289.186875)rotate(-90)scale(0.1 -0.1)\">\n       <defs>\n        <path d=\"M 16.5 36.375 \nQ 23.578125 46.578125 34.90625 46.578125 \nQ 45.40625 46.578125 51.8125 39.265625 \nQ 57.421875 32.90625 57.421875 23.78125 \nQ 57.421875 13.8125 51.125 6.78125 \nQ 44.578125 -0.484375 34.03125 -0.484375 \nQ 21.484375 -0.484375 14.40625 9.078125 \nQ 7.515625 18.40625 7.515625 34.8125 \nQ 7.515625 53.515625 15.828125 64.203125 \nQ 23.34375 73.828125 35.5 73.828125 \nQ 49.859375 73.828125 56.390625 62.890625 \nL 49.21875 58.984375 \nQ 45.21875 66.65625 35.9375 66.65625 \nQ 17.484375 66.65625 16.109375 36.375 \nz\nM 33.453125 39.796875 \nQ 26.3125 39.796875 21.625 34.46875 \nQ 17.4375 29.6875 17.4375 24.078125 \nQ 17.4375 18.0625 21.140625 13.1875 \nQ 26.125 6.6875 33.734375 6.6875 \nQ 41.703125 6.6875 45.953125 13.1875 \nQ 48.828125 17.625 48.828125 23.484375 \nQ 48.828125 30.375 45.015625 34.8125 \nQ 40.625 39.796875 33.453125 39.796875 \nz\n\" id=\"IPAexGothic-54\"/>\n       </defs>\n       <use xlink:href=\"#IPAexGothic-50\"/>\n       <use x=\"62.988281\" xlink:href=\"#IPAexGothic-48\"/>\n       <use x=\"125.976562\" xlink:href=\"#IPAexGothic-50\"/>\n       <use x=\"188.964844\" xlink:href=\"#IPAexGothic-49\"/>\n       <use x=\"251.953125\" xlink:href=\"#IPAexGothic-45\"/>\n       <use x=\"287.744141\" xlink:href=\"#IPAexGothic-48\"/>\n       <use x=\"350.732422\" xlink:href=\"#IPAexGothic-55\"/>\n       <use x=\"413.720703\" xlink:href=\"#IPAexGothic-45\"/>\n       <use x=\"449.511719\" xlink:href=\"#IPAexGothic-50\"/>\n       <use x=\"512.5\" xlink:href=\"#IPAexGothic-54\"/>\n      </g>\n     </g>\n    </g>\n    <g id=\"xtick_5\">\n     <g id=\"line2d_5\">\n      <g>\n       <use style=\"stroke:#000000;stroke-width:0.8;\" x=\"126.532468\" xlink:href=\"#mb62fe34795\" y=\"224.64\"/>\n      </g>\n     </g>\n     <g id=\"text_5\">\n      <!-- 2021-07-27 -->\n      <g transform=\"translate(129.32778 289.186875)rotate(-90)scale(0.1 -0.1)\">\n       <use xlink:href=\"#IPAexGothic-50\"/>\n       <use x=\"62.988281\" xlink:href=\"#IPAexGothic-48\"/>\n       <use x=\"125.976562\" xlink:href=\"#IPAexGothic-50\"/>\n       <use x=\"188.964844\" xlink:href=\"#IPAexGothic-49\"/>\n       <use x=\"251.953125\" xlink:href=\"#IPAexGothic-45\"/>\n       <use x=\"287.744141\" xlink:href=\"#IPAexGothic-48\"/>\n       <use x=\"350.732422\" xlink:href=\"#IPAexGothic-55\"/>\n       <use x=\"413.720703\" xlink:href=\"#IPAexGothic-45\"/>\n       <use x=\"449.511719\" xlink:href=\"#IPAexGothic-50\"/>\n       <use x=\"512.5\" xlink:href=\"#IPAexGothic-55\"/>\n      </g>\n     </g>\n    </g>\n    <g id=\"xtick_6\">\n     <g id=\"line2d_6\">\n      <g>\n       <use style=\"stroke:#000000;stroke-width:0.8;\" x=\"144.649351\" xlink:href=\"#mb62fe34795\" y=\"224.64\"/>\n      </g>\n     </g>\n     <g id=\"text_6\">\n      <!-- 2021-07-28 -->\n      <g transform=\"translate(147.444663 289.186875)rotate(-90)scale(0.1 -0.1)\">\n       <defs>\n        <path d=\"M 39.703125 37.890625 \nQ 57.8125 31.734375 57.8125 18.703125 \nQ 57.8125 8.453125 48.4375 3.078125 \nQ 41.609375 -0.875 31.5 -0.875 \nQ 21.34375 -0.875 14.5 3.078125 \nQ 5.421875 8.296875 5.421875 18.40625 \nQ 5.421875 31.0625 22.015625 37.203125 \nL 22.015625 37.5 \nQ 7.515625 42.71875 7.515625 54.828125 \nQ 7.515625 64.0625 15.328125 69.625 \nQ 21.96875 74.3125 31.546875 74.3125 \nQ 42.234375 74.3125 48.921875 68.796875 \nQ 55.515625 63.578125 55.515625 55.71875 \nQ 55.515625 42.28125 39.703125 38.1875 \nz\nM 31.59375 41.015625 \nQ 46.828125 44.625 46.828125 55.125 \nQ 46.828125 61.1875 41.796875 64.84375 \nQ 37.703125 67.921875 31.5 67.921875 \nQ 25.09375 67.921875 20.796875 64.5 \nQ 16.40625 60.890625 16.40625 55.03125 \nQ 16.40625 49.21875 21.09375 45.703125 \nQ 23.34375 43.890625 26.90625 42.53125 \nQ 31 40.875 31.59375 41.015625 \nz\nM 30.90625 34.515625 \nQ 14.40625 30.171875 14.40625 19 \nQ 14.40625 12.109375 20.515625 8.6875 \nQ 25.09375 6.109375 31.390625 6.109375 \nQ 40.234375 6.109375 45.015625 10.890625 \nQ 48.53125 14.40625 48.53125 19.53125 \nQ 48.53125 24.90625 43.65625 28.90625 \nQ 40.765625 31.15625 36.71875 32.8125 \nQ 31.984375 34.71875 30.90625 34.515625 \nz\n\" id=\"IPAexGothic-56\"/>\n       </defs>\n       <use xlink:href=\"#IPAexGothic-50\"/>\n       <use x=\"62.988281\" xlink:href=\"#IPAexGothic-48\"/>\n       <use x=\"125.976562\" xlink:href=\"#IPAexGothic-50\"/>\n       <use x=\"188.964844\" xlink:href=\"#IPAexGothic-49\"/>\n       <use x=\"251.953125\" xlink:href=\"#IPAexGothic-45\"/>\n       <use x=\"287.744141\" xlink:href=\"#IPAexGothic-48\"/>\n       <use x=\"350.732422\" xlink:href=\"#IPAexGothic-55\"/>\n       <use x=\"413.720703\" xlink:href=\"#IPAexGothic-45\"/>\n       <use x=\"449.511719\" xlink:href=\"#IPAexGothic-50\"/>\n       <use x=\"512.5\" xlink:href=\"#IPAexGothic-56\"/>\n      </g>\n     </g>\n    </g>\n    <g id=\"xtick_7\">\n     <g id=\"line2d_7\">\n      <g>\n       <use style=\"stroke:#000000;stroke-width:0.8;\" x=\"162.766234\" xlink:href=\"#mb62fe34795\" y=\"224.64\"/>\n      </g>\n     </g>\n     <g id=\"text_7\">\n      <!-- 2021-07-29 -->\n      <g transform=\"translate(165.561546 289.186875)rotate(-90)scale(0.1 -0.1)\">\n       <defs>\n        <path d=\"M 46.625 36.8125 \nQ 39.75 26.8125 28.328125 26.8125 \nQ 19.578125 26.8125 13.234375 32.125 \nQ 5.71875 38.421875 5.71875 49.421875 \nQ 5.71875 59.578125 12.015625 66.65625 \nQ 18.453125 73.828125 29.203125 73.828125 \nQ 43.75 73.828125 50.640625 61.71875 \nQ 55.609375 52.78125 55.609375 38.625 \nQ 55.609375 19.53125 47.515625 9.1875 \nQ 39.890625 -0.484375 27.640625 -0.484375 \nQ 13.421875 -0.484375 6.109375 10.984375 \nL 13.328125 14.890625 \nQ 18.0625 6.6875 27.390625 6.6875 \nQ 45.65625 6.6875 47.015625 36.8125 \nz\nM 29.5 66.84375 \nQ 22.65625 66.84375 18.3125 61.71875 \nQ 14.40625 57.078125 14.40625 50 \nQ 14.40625 42.828125 18.109375 38.71875 \nQ 22.40625 33.796875 29.78125 33.796875 \nQ 37.984375 33.796875 42.625 40.1875 \nQ 45.703125 44.484375 45.703125 49.515625 \nQ 45.703125 55.515625 42.09375 60.359375 \nQ 37.109375 66.84375 29.5 66.84375 \nz\n\" id=\"IPAexGothic-57\"/>\n       </defs>\n       <use xlink:href=\"#IPAexGothic-50\"/>\n       <use x=\"62.988281\" xlink:href=\"#IPAexGothic-48\"/>\n       <use x=\"125.976562\" xlink:href=\"#IPAexGothic-50\"/>\n       <use x=\"188.964844\" xlink:href=\"#IPAexGothic-49\"/>\n       <use x=\"251.953125\" xlink:href=\"#IPAexGothic-45\"/>\n       <use x=\"287.744141\" xlink:href=\"#IPAexGothic-48\"/>\n       <use x=\"350.732422\" xlink:href=\"#IPAexGothic-55\"/>\n       <use x=\"413.720703\" xlink:href=\"#IPAexGothic-45\"/>\n       <use x=\"449.511719\" xlink:href=\"#IPAexGothic-50\"/>\n       <use x=\"512.5\" xlink:href=\"#IPAexGothic-57\"/>\n      </g>\n     </g>\n    </g>\n    <g id=\"xtick_8\">\n     <g id=\"line2d_8\">\n      <g>\n       <use style=\"stroke:#000000;stroke-width:0.8;\" x=\"180.883117\" xlink:href=\"#mb62fe34795\" y=\"224.64\"/>\n      </g>\n     </g>\n     <g id=\"text_8\">\n      <!-- 2021-07-30 -->\n      <g transform=\"translate(183.678429 289.186875)rotate(-90)scale(0.1 -0.1)\">\n       <defs>\n        <path d=\"M 37.203125 37.796875 \nQ 54.78125 34.625 54.78125 19.96875 \nQ 54.78125 11.1875 48.875 5.5625 \nQ 42.328125 -0.484375 30.375 -0.484375 \nQ 12.453125 -0.484375 4.5 13.765625 \nL 11.8125 17.671875 \nQ 17.328125 6.890625 30.28125 6.890625 \nQ 37.890625 6.890625 42.09375 10.796875 \nQ 46.09375 14.5 46.09375 20.171875 \nQ 46.09375 26.859375 40.09375 30.90625 \nQ 34.625 34.578125 25.6875 34.578125 \nL 21.296875 34.578125 \nL 21.296875 41.703125 \nL 25.875 41.703125 \nQ 34.859375 41.703125 39.59375 45.125 \nQ 44.671875 48.734375 44.671875 54.828125 \nQ 44.671875 61.46875 38.96875 64.65625 \nQ 35.296875 66.84375 30.171875 66.84375 \nQ 19.34375 66.84375 14.109375 55.90625 \nL 6.78125 59.421875 \nQ 14.015625 73.828125 30.28125 73.828125 \nQ 40.578125 73.828125 46.96875 68.65625 \nQ 53.375 63.578125 53.375 55.21875 \nQ 53.375 47.3125 47.171875 42.28125 \nQ 43.171875 39.0625 37.203125 38.1875 \nz\n\" id=\"IPAexGothic-51\"/>\n       </defs>\n       <use xlink:href=\"#IPAexGothic-50\"/>\n       <use x=\"62.988281\" xlink:href=\"#IPAexGothic-48\"/>\n       <use x=\"125.976562\" xlink:href=\"#IPAexGothic-50\"/>\n       <use x=\"188.964844\" xlink:href=\"#IPAexGothic-49\"/>\n       <use x=\"251.953125\" xlink:href=\"#IPAexGothic-45\"/>\n       <use x=\"287.744141\" xlink:href=\"#IPAexGothic-48\"/>\n       <use x=\"350.732422\" xlink:href=\"#IPAexGothic-55\"/>\n       <use x=\"413.720703\" xlink:href=\"#IPAexGothic-45\"/>\n       <use x=\"449.511719\" xlink:href=\"#IPAexGothic-51\"/>\n       <use x=\"512.5\" xlink:href=\"#IPAexGothic-48\"/>\n      </g>\n     </g>\n    </g>\n    <g id=\"xtick_9\">\n     <g id=\"line2d_9\">\n      <g>\n       <use style=\"stroke:#000000;stroke-width:0.8;\" x=\"199\" xlink:href=\"#mb62fe34795\" y=\"224.64\"/>\n      </g>\n     </g>\n     <g id=\"text_9\">\n      <!-- 2021-07-31 -->\n      <g transform=\"translate(201.795313 289.186875)rotate(-90)scale(0.1 -0.1)\">\n       <use xlink:href=\"#IPAexGothic-50\"/>\n       <use x=\"62.988281\" xlink:href=\"#IPAexGothic-48\"/>\n       <use x=\"125.976562\" xlink:href=\"#IPAexGothic-50\"/>\n       <use x=\"188.964844\" xlink:href=\"#IPAexGothic-49\"/>\n       <use x=\"251.953125\" xlink:href=\"#IPAexGothic-45\"/>\n       <use x=\"287.744141\" xlink:href=\"#IPAexGothic-48\"/>\n       <use x=\"350.732422\" xlink:href=\"#IPAexGothic-55\"/>\n       <use x=\"413.720703\" xlink:href=\"#IPAexGothic-45\"/>\n       <use x=\"449.511719\" xlink:href=\"#IPAexGothic-51\"/>\n       <use x=\"512.5\" xlink:href=\"#IPAexGothic-49\"/>\n      </g>\n     </g>\n    </g>\n    <g id=\"xtick_10\">\n     <g id=\"line2d_10\">\n      <g>\n       <use style=\"stroke:#000000;stroke-width:0.8;\" x=\"217.116883\" xlink:href=\"#mb62fe34795\" y=\"224.64\"/>\n      </g>\n     </g>\n     <g id=\"text_10\">\n      <!-- 2021-08-01 -->\n      <g transform=\"translate(219.912196 289.186875)rotate(-90)scale(0.1 -0.1)\">\n       <use xlink:href=\"#IPAexGothic-50\"/>\n       <use x=\"62.988281\" xlink:href=\"#IPAexGothic-48\"/>\n       <use x=\"125.976562\" xlink:href=\"#IPAexGothic-50\"/>\n       <use x=\"188.964844\" xlink:href=\"#IPAexGothic-49\"/>\n       <use x=\"251.953125\" xlink:href=\"#IPAexGothic-45\"/>\n       <use x=\"287.744141\" xlink:href=\"#IPAexGothic-48\"/>\n       <use x=\"350.732422\" xlink:href=\"#IPAexGothic-56\"/>\n       <use x=\"413.720703\" xlink:href=\"#IPAexGothic-45\"/>\n       <use x=\"449.511719\" xlink:href=\"#IPAexGothic-48\"/>\n       <use x=\"512.5\" xlink:href=\"#IPAexGothic-49\"/>\n      </g>\n     </g>\n    </g>\n    <g id=\"xtick_11\">\n     <g id=\"line2d_11\">\n      <g>\n       <use style=\"stroke:#000000;stroke-width:0.8;\" x=\"235.233766\" xlink:href=\"#mb62fe34795\" y=\"224.64\"/>\n      </g>\n     </g>\n     <g id=\"text_11\">\n      <!-- 2021-08-02 -->\n      <g transform=\"translate(238.029079 289.186875)rotate(-90)scale(0.1 -0.1)\">\n       <use xlink:href=\"#IPAexGothic-50\"/>\n       <use x=\"62.988281\" xlink:href=\"#IPAexGothic-48\"/>\n       <use x=\"125.976562\" xlink:href=\"#IPAexGothic-50\"/>\n       <use x=\"188.964844\" xlink:href=\"#IPAexGothic-49\"/>\n       <use x=\"251.953125\" xlink:href=\"#IPAexGothic-45\"/>\n       <use x=\"287.744141\" xlink:href=\"#IPAexGothic-48\"/>\n       <use x=\"350.732422\" xlink:href=\"#IPAexGothic-56\"/>\n       <use x=\"413.720703\" xlink:href=\"#IPAexGothic-45\"/>\n       <use x=\"449.511719\" xlink:href=\"#IPAexGothic-48\"/>\n       <use x=\"512.5\" xlink:href=\"#IPAexGothic-50\"/>\n      </g>\n     </g>\n    </g>\n    <g id=\"xtick_12\">\n     <g id=\"line2d_12\">\n      <g>\n       <use style=\"stroke:#000000;stroke-width:0.8;\" x=\"253.350649\" xlink:href=\"#mb62fe34795\" y=\"224.64\"/>\n      </g>\n     </g>\n     <g id=\"text_12\">\n      <!-- 2021-08-03 -->\n      <g transform=\"translate(256.145962 289.186875)rotate(-90)scale(0.1 -0.1)\">\n       <use xlink:href=\"#IPAexGothic-50\"/>\n       <use x=\"62.988281\" xlink:href=\"#IPAexGothic-48\"/>\n       <use x=\"125.976562\" xlink:href=\"#IPAexGothic-50\"/>\n       <use x=\"188.964844\" xlink:href=\"#IPAexGothic-49\"/>\n       <use x=\"251.953125\" xlink:href=\"#IPAexGothic-45\"/>\n       <use x=\"287.744141\" xlink:href=\"#IPAexGothic-48\"/>\n       <use x=\"350.732422\" xlink:href=\"#IPAexGothic-56\"/>\n       <use x=\"413.720703\" xlink:href=\"#IPAexGothic-45\"/>\n       <use x=\"449.511719\" xlink:href=\"#IPAexGothic-48\"/>\n       <use x=\"512.5\" xlink:href=\"#IPAexGothic-51\"/>\n      </g>\n     </g>\n    </g>\n    <g id=\"xtick_13\">\n     <g id=\"line2d_13\">\n      <g>\n       <use style=\"stroke:#000000;stroke-width:0.8;\" x=\"271.467532\" xlink:href=\"#mb62fe34795\" y=\"224.64\"/>\n      </g>\n     </g>\n     <g id=\"text_13\">\n      <!-- 2021-08-04 -->\n      <g transform=\"translate(274.262845 289.186875)rotate(-90)scale(0.1 -0.1)\">\n       <use xlink:href=\"#IPAexGothic-50\"/>\n       <use x=\"62.988281\" xlink:href=\"#IPAexGothic-48\"/>\n       <use x=\"125.976562\" xlink:href=\"#IPAexGothic-50\"/>\n       <use x=\"188.964844\" xlink:href=\"#IPAexGothic-49\"/>\n       <use x=\"251.953125\" xlink:href=\"#IPAexGothic-45\"/>\n       <use x=\"287.744141\" xlink:href=\"#IPAexGothic-48\"/>\n       <use x=\"350.732422\" xlink:href=\"#IPAexGothic-56\"/>\n       <use x=\"413.720703\" xlink:href=\"#IPAexGothic-45\"/>\n       <use x=\"449.511719\" xlink:href=\"#IPAexGothic-48\"/>\n       <use x=\"512.5\" xlink:href=\"#IPAexGothic-52\"/>\n      </g>\n     </g>\n    </g>\n    <g id=\"xtick_14\">\n     <g id=\"line2d_14\">\n      <g>\n       <use style=\"stroke:#000000;stroke-width:0.8;\" x=\"289.584416\" xlink:href=\"#mb62fe34795\" y=\"224.64\"/>\n      </g>\n     </g>\n     <g id=\"text_14\">\n      <!-- 2021-08-05 -->\n      <g transform=\"translate(292.379728 289.186875)rotate(-90)scale(0.1 -0.1)\">\n       <use xlink:href=\"#IPAexGothic-50\"/>\n       <use x=\"62.988281\" xlink:href=\"#IPAexGothic-48\"/>\n       <use x=\"125.976562\" xlink:href=\"#IPAexGothic-50\"/>\n       <use x=\"188.964844\" xlink:href=\"#IPAexGothic-49\"/>\n       <use x=\"251.953125\" xlink:href=\"#IPAexGothic-45\"/>\n       <use x=\"287.744141\" xlink:href=\"#IPAexGothic-48\"/>\n       <use x=\"350.732422\" xlink:href=\"#IPAexGothic-56\"/>\n       <use x=\"413.720703\" xlink:href=\"#IPAexGothic-45\"/>\n       <use x=\"449.511719\" xlink:href=\"#IPAexGothic-48\"/>\n       <use x=\"512.5\" xlink:href=\"#IPAexGothic-53\"/>\n      </g>\n     </g>\n    </g>\n    <g id=\"xtick_15\">\n     <g id=\"line2d_15\">\n      <g>\n       <use style=\"stroke:#000000;stroke-width:0.8;\" x=\"307.701299\" xlink:href=\"#mb62fe34795\" y=\"224.64\"/>\n      </g>\n     </g>\n     <g id=\"text_15\">\n      <!-- 2021-08-06 -->\n      <g transform=\"translate(310.496611 289.186875)rotate(-90)scale(0.1 -0.1)\">\n       <use xlink:href=\"#IPAexGothic-50\"/>\n       <use x=\"62.988281\" xlink:href=\"#IPAexGothic-48\"/>\n       <use x=\"125.976562\" xlink:href=\"#IPAexGothic-50\"/>\n       <use x=\"188.964844\" xlink:href=\"#IPAexGothic-49\"/>\n       <use x=\"251.953125\" xlink:href=\"#IPAexGothic-45\"/>\n       <use x=\"287.744141\" xlink:href=\"#IPAexGothic-48\"/>\n       <use x=\"350.732422\" xlink:href=\"#IPAexGothic-56\"/>\n       <use x=\"413.720703\" xlink:href=\"#IPAexGothic-45\"/>\n       <use x=\"449.511719\" xlink:href=\"#IPAexGothic-48\"/>\n       <use x=\"512.5\" xlink:href=\"#IPAexGothic-54\"/>\n      </g>\n     </g>\n    </g>\n    <g id=\"xtick_16\">\n     <g id=\"line2d_16\">\n      <g>\n       <use style=\"stroke:#000000;stroke-width:0.8;\" x=\"325.818182\" xlink:href=\"#mb62fe34795\" y=\"224.64\"/>\n      </g>\n     </g>\n     <g id=\"text_16\">\n      <!-- 2021-08-07 -->\n      <g transform=\"translate(328.613494 289.186875)rotate(-90)scale(0.1 -0.1)\">\n       <use xlink:href=\"#IPAexGothic-50\"/>\n       <use x=\"62.988281\" xlink:href=\"#IPAexGothic-48\"/>\n       <use x=\"125.976562\" xlink:href=\"#IPAexGothic-50\"/>\n       <use x=\"188.964844\" xlink:href=\"#IPAexGothic-49\"/>\n       <use x=\"251.953125\" xlink:href=\"#IPAexGothic-45\"/>\n       <use x=\"287.744141\" xlink:href=\"#IPAexGothic-48\"/>\n       <use x=\"350.732422\" xlink:href=\"#IPAexGothic-56\"/>\n       <use x=\"413.720703\" xlink:href=\"#IPAexGothic-45\"/>\n       <use x=\"449.511719\" xlink:href=\"#IPAexGothic-48\"/>\n       <use x=\"512.5\" xlink:href=\"#IPAexGothic-55\"/>\n      </g>\n     </g>\n    </g>\n    <g id=\"xtick_17\">\n     <g id=\"line2d_17\">\n      <g>\n       <use style=\"stroke:#000000;stroke-width:0.8;\" x=\"343.935065\" xlink:href=\"#mb62fe34795\" y=\"224.64\"/>\n      </g>\n     </g>\n     <g id=\"text_17\">\n      <!-- 2021-08-08 -->\n      <g transform=\"translate(346.730377 289.186875)rotate(-90)scale(0.1 -0.1)\">\n       <use xlink:href=\"#IPAexGothic-50\"/>\n       <use x=\"62.988281\" xlink:href=\"#IPAexGothic-48\"/>\n       <use x=\"125.976562\" xlink:href=\"#IPAexGothic-50\"/>\n       <use x=\"188.964844\" xlink:href=\"#IPAexGothic-49\"/>\n       <use x=\"251.953125\" xlink:href=\"#IPAexGothic-45\"/>\n       <use x=\"287.744141\" xlink:href=\"#IPAexGothic-48\"/>\n       <use x=\"350.732422\" xlink:href=\"#IPAexGothic-56\"/>\n       <use x=\"413.720703\" xlink:href=\"#IPAexGothic-45\"/>\n       <use x=\"449.511719\" xlink:href=\"#IPAexGothic-48\"/>\n       <use x=\"512.5\" xlink:href=\"#IPAexGothic-56\"/>\n      </g>\n     </g>\n    </g>\n   </g>\n   <g id=\"matplotlib.axis_2\">\n    <g id=\"ytick_1\">\n     <g id=\"line2d_18\">\n      <defs>\n       <path d=\"M 0 0 \nL -3.5 0 \n\" id=\"me7fe578288\" style=\"stroke:#000000;stroke-width:0.8;\"/>\n      </defs>\n      <g>\n       <use style=\"stroke:#000000;stroke-width:0.8;\" x=\"31.6\" xlink:href=\"#me7fe578288\" y=\"214.756364\"/>\n      </g>\n     </g>\n     <g id=\"text_18\">\n      <!-- $\\mathdefault{10^{0}}$ -->\n      <g transform=\"translate(7.2 218.501676)scale(0.1 -0.1)\">\n       <use transform=\"translate(0 0.773438)\" xlink:href=\"#IPAexGothic-49\"/>\n       <use transform=\"translate(62.988281 0.773438)\" xlink:href=\"#IPAexGothic-48\"/>\n       <use transform=\"translate(126.865234 36.320312)scale(0.7)\" xlink:href=\"#IPAexGothic-48\"/>\n      </g>\n     </g>\n    </g>\n    <g id=\"ytick_2\">\n     <g id=\"line2d_19\">\n      <g>\n       <use style=\"stroke:#000000;stroke-width:0.8;\" x=\"31.6\" xlink:href=\"#me7fe578288\" y=\"158.26229\"/>\n      </g>\n     </g>\n     <g id=\"text_19\">\n      <!-- $\\mathdefault{10^{1}}$ -->\n      <g transform=\"translate(7.2 162.007603)scale(0.1 -0.1)\">\n       <use transform=\"translate(0 0.707813)\" xlink:href=\"#IPAexGothic-49\"/>\n       <use transform=\"translate(62.988281 0.707813)\" xlink:href=\"#IPAexGothic-48\"/>\n       <use transform=\"translate(126.865234 36.254688)scale(0.7)\" xlink:href=\"#IPAexGothic-49\"/>\n      </g>\n     </g>\n    </g>\n    <g id=\"ytick_3\">\n     <g id=\"line2d_20\">\n      <g>\n       <use style=\"stroke:#000000;stroke-width:0.8;\" x=\"31.6\" xlink:href=\"#me7fe578288\" y=\"101.768217\"/>\n      </g>\n     </g>\n     <g id=\"text_20\">\n      <!-- $\\mathdefault{10^{2}}$ -->\n      <g transform=\"translate(7.2 105.513529)scale(0.1 -0.1)\">\n       <use transform=\"translate(0 0.773438)\" xlink:href=\"#IPAexGothic-49\"/>\n       <use transform=\"translate(62.988281 0.773438)\" xlink:href=\"#IPAexGothic-48\"/>\n       <use transform=\"translate(126.865234 36.320312)scale(0.7)\" xlink:href=\"#IPAexGothic-50\"/>\n      </g>\n     </g>\n    </g>\n    <g id=\"ytick_4\">\n     <g id=\"line2d_21\">\n      <g>\n       <use style=\"stroke:#000000;stroke-width:0.8;\" x=\"31.6\" xlink:href=\"#me7fe578288\" y=\"45.274143\"/>\n      </g>\n     </g>\n     <g id=\"text_21\">\n      <!-- $\\mathdefault{10^{3}}$ -->\n      <g transform=\"translate(7.2 49.019456)scale(0.1 -0.1)\">\n       <use transform=\"translate(0 0.773438)\" xlink:href=\"#IPAexGothic-49\"/>\n       <use transform=\"translate(62.988281 0.773438)\" xlink:href=\"#IPAexGothic-48\"/>\n       <use transform=\"translate(126.865234 36.320312)scale(0.7)\" xlink:href=\"#IPAexGothic-51\"/>\n      </g>\n     </g>\n    </g>\n    <g id=\"ytick_5\">\n     <g id=\"line2d_22\">\n      <defs>\n       <path d=\"M 0 0 \nL -2 0 \n\" id=\"m988dfc61b9\" style=\"stroke:#000000;stroke-width:0.6;\"/>\n      </defs>\n      <g>\n       <use style=\"stroke:#000000;stroke-width:0.6;\" x=\"31.6\" xlink:href=\"#m988dfc61b9\" y=\"223.507406\"/>\n      </g>\n     </g>\n    </g>\n    <g id=\"ytick_6\">\n     <g id=\"line2d_23\">\n      <g>\n       <use style=\"stroke:#000000;stroke-width:0.6;\" x=\"31.6\" xlink:href=\"#m988dfc61b9\" y=\"220.231205\"/>\n      </g>\n     </g>\n    </g>\n    <g id=\"ytick_7\">\n     <g id=\"line2d_24\">\n      <g>\n       <use style=\"stroke:#000000;stroke-width:0.6;\" x=\"31.6\" xlink:href=\"#m988dfc61b9\" y=\"217.341391\"/>\n      </g>\n     </g>\n    </g>\n    <g id=\"ytick_8\">\n     <g id=\"line2d_25\">\n      <g>\n       <use style=\"stroke:#000000;stroke-width:0.6;\" x=\"31.6\" xlink:href=\"#m988dfc61b9\" y=\"197.749953\"/>\n      </g>\n     </g>\n    </g>\n    <g id=\"ytick_9\">\n     <g id=\"line2d_26\">\n      <g>\n       <use style=\"stroke:#000000;stroke-width:0.6;\" x=\"31.6\" xlink:href=\"#m988dfc61b9\" y=\"187.80184\"/>\n      </g>\n     </g>\n    </g>\n    <g id=\"ytick_10\">\n     <g id=\"line2d_27\">\n      <g>\n       <use style=\"stroke:#000000;stroke-width:0.6;\" x=\"31.6\" xlink:href=\"#m988dfc61b9\" y=\"180.743542\"/>\n      </g>\n     </g>\n    </g>\n    <g id=\"ytick_11\">\n     <g id=\"line2d_28\">\n      <g>\n       <use style=\"stroke:#000000;stroke-width:0.6;\" x=\"31.6\" xlink:href=\"#m988dfc61b9\" y=\"175.268701\"/>\n      </g>\n     </g>\n    </g>\n    <g id=\"ytick_12\">\n     <g id=\"line2d_29\">\n      <g>\n       <use style=\"stroke:#000000;stroke-width:0.6;\" x=\"31.6\" xlink:href=\"#m988dfc61b9\" y=\"170.79543\"/>\n      </g>\n     </g>\n    </g>\n    <g id=\"ytick_13\">\n     <g id=\"line2d_30\">\n      <g>\n       <use style=\"stroke:#000000;stroke-width:0.6;\" x=\"31.6\" xlink:href=\"#m988dfc61b9\" y=\"167.013333\"/>\n      </g>\n     </g>\n    </g>\n    <g id=\"ytick_14\">\n     <g id=\"line2d_31\">\n      <g>\n       <use style=\"stroke:#000000;stroke-width:0.6;\" x=\"31.6\" xlink:href=\"#m988dfc61b9\" y=\"163.737132\"/>\n      </g>\n     </g>\n    </g>\n    <g id=\"ytick_15\">\n     <g id=\"line2d_32\">\n      <g>\n       <use style=\"stroke:#000000;stroke-width:0.6;\" x=\"31.6\" xlink:href=\"#m988dfc61b9\" y=\"160.847317\"/>\n      </g>\n     </g>\n    </g>\n    <g id=\"ytick_16\">\n     <g id=\"line2d_33\">\n      <g>\n       <use style=\"stroke:#000000;stroke-width:0.6;\" x=\"31.6\" xlink:href=\"#m988dfc61b9\" y=\"141.255879\"/>\n      </g>\n     </g>\n    </g>\n    <g id=\"ytick_17\">\n     <g id=\"line2d_34\">\n      <g>\n       <use style=\"stroke:#000000;stroke-width:0.6;\" x=\"31.6\" xlink:href=\"#m988dfc61b9\" y=\"131.307767\"/>\n      </g>\n     </g>\n    </g>\n    <g id=\"ytick_18\">\n     <g id=\"line2d_35\">\n      <g>\n       <use style=\"stroke:#000000;stroke-width:0.6;\" x=\"31.6\" xlink:href=\"#m988dfc61b9\" y=\"124.249469\"/>\n      </g>\n     </g>\n    </g>\n    <g id=\"ytick_19\">\n     <g id=\"line2d_36\">\n      <g>\n       <use style=\"stroke:#000000;stroke-width:0.6;\" x=\"31.6\" xlink:href=\"#m988dfc61b9\" y=\"118.774627\"/>\n      </g>\n     </g>\n    </g>\n    <g id=\"ytick_20\">\n     <g id=\"line2d_37\">\n      <g>\n       <use style=\"stroke:#000000;stroke-width:0.6;\" x=\"31.6\" xlink:href=\"#m988dfc61b9\" y=\"114.301356\"/>\n      </g>\n     </g>\n    </g>\n    <g id=\"ytick_21\">\n     <g id=\"line2d_38\">\n      <g>\n       <use style=\"stroke:#000000;stroke-width:0.6;\" x=\"31.6\" xlink:href=\"#m988dfc61b9\" y=\"110.519259\"/>\n      </g>\n     </g>\n    </g>\n    <g id=\"ytick_22\">\n     <g id=\"line2d_39\">\n      <g>\n       <use style=\"stroke:#000000;stroke-width:0.6;\" x=\"31.6\" xlink:href=\"#m988dfc61b9\" y=\"107.243058\"/>\n      </g>\n     </g>\n    </g>\n    <g id=\"ytick_23\">\n     <g id=\"line2d_40\">\n      <g>\n       <use style=\"stroke:#000000;stroke-width:0.6;\" x=\"31.6\" xlink:href=\"#m988dfc61b9\" y=\"104.353244\"/>\n      </g>\n     </g>\n    </g>\n    <g id=\"ytick_24\">\n     <g id=\"line2d_41\">\n      <g>\n       <use style=\"stroke:#000000;stroke-width:0.6;\" x=\"31.6\" xlink:href=\"#m988dfc61b9\" y=\"84.761806\"/>\n      </g>\n     </g>\n    </g>\n    <g id=\"ytick_25\">\n     <g id=\"line2d_42\">\n      <g>\n       <use style=\"stroke:#000000;stroke-width:0.6;\" x=\"31.6\" xlink:href=\"#m988dfc61b9\" y=\"74.813693\"/>\n      </g>\n     </g>\n    </g>\n    <g id=\"ytick_26\">\n     <g id=\"line2d_43\">\n      <g>\n       <use style=\"stroke:#000000;stroke-width:0.6;\" x=\"31.6\" xlink:href=\"#m988dfc61b9\" y=\"67.755395\"/>\n      </g>\n     </g>\n    </g>\n    <g id=\"ytick_27\">\n     <g id=\"line2d_44\">\n      <g>\n       <use style=\"stroke:#000000;stroke-width:0.6;\" x=\"31.6\" xlink:href=\"#m988dfc61b9\" y=\"62.280554\"/>\n      </g>\n     </g>\n    </g>\n    <g id=\"ytick_28\">\n     <g id=\"line2d_45\">\n      <g>\n       <use style=\"stroke:#000000;stroke-width:0.6;\" x=\"31.6\" xlink:href=\"#m988dfc61b9\" y=\"57.807283\"/>\n      </g>\n     </g>\n    </g>\n    <g id=\"ytick_29\">\n     <g id=\"line2d_46\">\n      <g>\n       <use style=\"stroke:#000000;stroke-width:0.6;\" x=\"31.6\" xlink:href=\"#m988dfc61b9\" y=\"54.025186\"/>\n      </g>\n     </g>\n    </g>\n    <g id=\"ytick_30\">\n     <g id=\"line2d_47\">\n      <g>\n       <use style=\"stroke:#000000;stroke-width:0.6;\" x=\"31.6\" xlink:href=\"#m988dfc61b9\" y=\"50.748984\"/>\n      </g>\n     </g>\n    </g>\n    <g id=\"ytick_31\">\n     <g id=\"line2d_48\">\n      <g>\n       <use style=\"stroke:#000000;stroke-width:0.6;\" x=\"31.6\" xlink:href=\"#m988dfc61b9\" y=\"47.85917\"/>\n      </g>\n     </g>\n    </g>\n    <g id=\"ytick_32\">\n     <g id=\"line2d_49\">\n      <g>\n       <use style=\"stroke:#000000;stroke-width:0.6;\" x=\"31.6\" xlink:href=\"#m988dfc61b9\" y=\"28.267732\"/>\n      </g>\n     </g>\n    </g>\n    <g id=\"ytick_33\">\n     <g id=\"line2d_50\">\n      <g>\n       <use style=\"stroke:#000000;stroke-width:0.6;\" x=\"31.6\" xlink:href=\"#m988dfc61b9\" y=\"18.31962\"/>\n      </g>\n     </g>\n    </g>\n    <g id=\"ytick_34\">\n     <g id=\"line2d_51\">\n      <g>\n       <use style=\"stroke:#000000;stroke-width:0.6;\" x=\"31.6\" xlink:href=\"#m988dfc61b9\" y=\"11.261322\"/>\n      </g>\n     </g>\n    </g>\n   </g>\n   <g id=\"patch_27\">\n    <path d=\"M 31.6 224.64 \nL 31.6 7.2 \n\" style=\"fill:none;stroke:#000000;stroke-linecap:square;stroke-linejoin:miter;stroke-width:0.8;\"/>\n   </g>\n   <g id=\"patch_28\">\n    <path d=\"M 366.4 224.64 \nL 366.4 7.2 \n\" style=\"fill:none;stroke:#000000;stroke-linecap:square;stroke-linejoin:miter;stroke-width:0.8;\"/>\n   </g>\n   <g id=\"patch_29\">\n    <path d=\"M 31.6 224.64 \nL 366.4 224.64 \n\" style=\"fill:none;stroke:#000000;stroke-linecap:square;stroke-linejoin:miter;stroke-width:0.8;\"/>\n   </g>\n   <g id=\"patch_30\">\n    <path d=\"M 31.6 7.2 \nL 366.4 7.2 \n\" style=\"fill:none;stroke:#000000;stroke-linecap:square;stroke-linejoin:miter;stroke-width:0.8;\"/>\n   </g>\n  </g>\n </g>\n <defs>\n  <clipPath id=\"pa67f88f652\">\n   <rect height=\"217.44\" width=\"334.8\" x=\"31.6\" y=\"7.2\"/>\n  </clipPath>\n </defs>\n</svg>\n",
      "image/png": "[encoded data removed]"
     },
     "metadata": {
      "needs_background": "light"
     }
    }
   ],
   "source": [
    "from collections import Counter\n",
    "\n",
    "for pub_date in ['2021-08-07', '2021-08-08']:\n",
    "    count = Counter(df[df.公表_年月日==pub_date].確定_年月日.dropna())\n",
    "    count_sorted = dict(sorted(count.items()))\n",
    "    # count_sorted\n",
    "    plt.xticks(rotation=90)     # x軸の文字を90度回転\n",
    "    plt.yscale('log')\n",
    "    plt.bar(list(count_sorted.keys()), count_sorted.values(), alpha=0.5)"
   ]
  },
  {
   "cell_type": "code",
   "execution_count": 80,
   "metadata": {},
   "outputs": [
    {
     "output_type": "execute_result",
     "data": {
      "text/plain": [
       "{'2020-12-21': 1,\n",
       " '2021-01-02': 1,\n",
       " '2021-01-05': 3,\n",
       " '2021-01-06': 6,\n",
       " '2021-01-07': 10,\n",
       " '2021-01-08': 72,\n",
       " '2021-01-09': 368,\n",
       " '2021-01-10': 757,\n",
       " '2021-01-11': 34}"
      ]
     },
     "metadata": {},
     "execution_count": 80
    }
   ],
   "source": [
    "pub_date = '2021-01-11'\n",
    "count = Counter(df[df.公表_年月日==pub_date].確定_年月日.dropna())\n",
    "count_sorted = dict(sorted(count.items()))\n",
    "count_sorted"
   ]
  },
  {
   "cell_type": "code",
   "execution_count": null,
   "metadata": {},
   "outputs": [],
   "source": []
  }
 ]
}